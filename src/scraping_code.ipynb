{
 "cells": [
  {
   "cell_type": "code",
   "execution_count": 1,
   "id": "f1dcf32f-50fb-4ff3-a25c-1ab759514c1e",
   "metadata": {},
   "outputs": [],
   "source": [
    "from bs4 import BeautifulSoup\n",
    "import requests\n",
    "from selenium import webdriver\n",
    "import time\n",
    "from webdriver_manager.chrome import ChromeDriverManager\n",
    "from selenium.webdriver.chrome.options import Options\n",
    "from selenium.webdriver.common.by import By\n",
    "import warnings\n",
    "import pandas as pd\n",
    "from selenium.webdriver.support.ui import WebDriverWait   \n",
    "from selenium.webdriver.support import expected_conditions as EC  \n",
    "warnings.filterwarnings('ignore')\n",
    "options=Options()"
   ]
  },
  {
   "cell_type": "code",
   "execution_count": 2,
   "id": "3d202fc8-6347-4e6e-a5a7-40dcb8a37b13",
   "metadata": {},
   "outputs": [],
   "source": [
    "options.add_argument('--start-maximized')\n",
    "options.add_experimental_option(\"excludeSwitches\", [\"enable-automation\"])\n",
    "options.add_experimental_option('useAutomationExtension', False)"
   ]
  },
  {
   "cell_type": "code",
   "execution_count": 3,
   "id": "ba4ad751-cefd-4508-82fb-7d77deae84d6",
   "metadata": {},
   "outputs": [],
   "source": [
    "PATH = ChromeDriverManager().install()"
   ]
  },
  {
   "cell_type": "code",
   "execution_count": 4,
   "id": "f33b82af-e00e-46bf-9cff-a0222f243f30",
   "metadata": {},
   "outputs": [],
   "source": [
    "driver = webdriver.Chrome(PATH, options=options)"
   ]
  },
  {
   "cell_type": "code",
   "execution_count": 5,
   "id": "b681e2af-7b10-448f-bb41-ae0614759145",
   "metadata": {},
   "outputs": [],
   "source": [
    "url = 'https://www.moto1pro.com/'"
   ]
  },
  {
   "cell_type": "code",
   "execution_count": 6,
   "id": "29e9863b-efe3-40db-88dc-9e6509c0b98e",
   "metadata": {},
   "outputs": [],
   "source": [
    "driver.get(url)"
   ]
  },
  {
   "cell_type": "code",
   "execution_count": 7,
   "id": "3e90e108-6be8-44c4-b089-6a7b943c9333",
   "metadata": {},
   "outputs": [],
   "source": [
    "# Acepto las cookies\n",
    "cookies = driver.find_element(By.XPATH, '/html/body/div[11]/div[2]/div[1]/div[2]/div[2]/button[1]/p')\n",
    "cookies.click()\n",
    "time.sleep(0.5)"
   ]
  },
  {
   "cell_type": "code",
   "execution_count": 8,
   "id": "d1ef5ecc-6204-45f4-b596-c89df4372598",
   "metadata": {},
   "outputs": [],
   "source": [
    "#Accedo a las fichas tecnicas\n",
    "fichas = driver.find_elements(By.XPATH, '//*[@id=\"navWrapper\"]/li[6]/a')\n",
    "fichas[0].click()\n",
    "time.sleep(1)"
   ]
  },
  {
   "cell_type": "code",
   "execution_count": 9,
   "id": "1a8c06e9-2546-4532-8c59-e4c884c01dbb",
   "metadata": {},
   "outputs": [],
   "source": [
    "marcas_names = driver.find_elements(By.XPATH, '//*[@id=\"content\"]/div[4]/div[1]')"
   ]
  },
  {
   "cell_type": "code",
   "execution_count": 10,
   "id": "08083be7-3b2c-4f65-8159-c5f6d207c9b5",
   "metadata": {},
   "outputs": [],
   "source": [
    "string = marcas_names[0].text"
   ]
  },
  {
   "cell_type": "code",
   "execution_count": 11,
   "id": "0735b4b1-294f-4736-a5fc-14f732a76e7b",
   "metadata": {},
   "outputs": [],
   "source": [
    "marcas_list = string.split('\\n')"
   ]
  },
  {
   "cell_type": "code",
   "execution_count": 12,
   "id": "9d80086e-c326-49ce-8d78-978e6fa3591b",
   "metadata": {},
   "outputs": [],
   "source": [
    "marcas_list = [marca.title() for marca in marcas_list]"
   ]
  },
  {
   "cell_type": "code",
   "execution_count": 13,
   "id": "48e9049e-f195-48fc-8b94-78691ea4a284",
   "metadata": {},
   "outputs": [],
   "source": [
    "elems = driver.find_elements(By.XPATH, \"//a[@href]\")"
   ]
  },
  {
   "cell_type": "code",
   "execution_count": 14,
   "id": "0e2999cc-ab3a-4d5e-97c7-a8d0515b6021",
   "metadata": {},
   "outputs": [],
   "source": [
    "links = []\n",
    "for elem in elems:\n",
    "    links.append(elem.get_attribute(\"href\"))"
   ]
  },
  {
   "cell_type": "code",
   "execution_count": 15,
   "id": "666ff91d-b6d0-4244-8b14-2bfef1df907a",
   "metadata": {},
   "outputs": [],
   "source": [
    "links = [elem.get_attribute(\"href\") for elem in elems]"
   ]
  },
  {
   "cell_type": "code",
   "execution_count": 16,
   "id": "5d02e1de-4736-4aef-a8b0-5f7ebbebb4bc",
   "metadata": {},
   "outputs": [
    {
     "data": {
      "text/plain": [
       "['https://www.moto1pro.com/marca-de-motos/Aprilia',\n",
       " 'https://www.moto1pro.com/marca-de-motos/Benelli',\n",
       " 'https://www.moto1pro.com/marca-de-motos/Beta',\n",
       " 'https://www.moto1pro.com/marca-de-motos/Bimota',\n",
       " 'https://www.moto1pro.com/marca-de-motos/BMW',\n",
       " 'https://www.moto1pro.com/marca-de-motos/Brixton',\n",
       " 'https://www.moto1pro.com/marca-de-motos/BSA',\n",
       " 'https://www.moto1pro.com/marca-de-motos/CF%20Moto',\n",
       " 'https://www.moto1pro.com/marca-de-motos/Daelim',\n",
       " 'https://www.moto1pro.com/marca-de-motos/Derbi',\n",
       " 'https://www.moto1pro.com/marca-de-motos/Ducati',\n",
       " 'https://www.moto1pro.com/marca-de-motos/E%20Broh',\n",
       " 'https://www.moto1pro.com/marca-de-motos/Energica',\n",
       " 'https://www.moto1pro.com/marca-de-motos/Fantic',\n",
       " 'https://www.moto1pro.com/marca-de-motos/FB%20Mondial',\n",
       " 'https://www.moto1pro.com/marca-de-motos/Gas%20Gas',\n",
       " 'https://www.moto1pro.com/marca-de-motos/Gilera',\n",
       " 'https://www.moto1pro.com/marca-de-motos/Hanway',\n",
       " 'https://www.moto1pro.com/marca-de-motos/Harley%20Davidson',\n",
       " 'https://www.moto1pro.com/marca-de-motos/Honda',\n",
       " 'https://www.moto1pro.com/marca-de-motos/Husqvarna',\n",
       " 'https://www.moto1pro.com/marca-de-motos/Hyosung',\n",
       " 'https://www.moto1pro.com/marca-de-motos/Indian',\n",
       " 'https://www.moto1pro.com/marca-de-motos/Italjet',\n",
       " 'https://www.moto1pro.com/marca-de-motos/Kawasaki',\n",
       " 'https://www.moto1pro.com/marca-de-motos/Keeway',\n",
       " 'https://www.moto1pro.com/marca-de-motos/KSR%20Moto',\n",
       " 'https://www.moto1pro.com/marca-de-motos/KTM',\n",
       " 'https://www.moto1pro.com/marca-de-motos/KYMCO',\n",
       " 'https://www.moto1pro.com/marca-de-motos/Lambretta',\n",
       " 'https://www.moto1pro.com/marca-de-motos/LML',\n",
       " 'https://www.moto1pro.com/marca-de-motos/Macbor',\n",
       " 'https://www.moto1pro.com/marca-de-motos/Malaguti',\n",
       " 'https://www.moto1pro.com/marca-de-motos/Mash',\n",
       " 'https://www.moto1pro.com/marca-de-motos/MH%20Motorcycles',\n",
       " 'https://www.moto1pro.com/marca-de-motos/MITT',\n",
       " 'https://www.moto1pro.com/marca-de-motos/Montesa',\n",
       " 'https://www.moto1pro.com/marca-de-motos/Moto%20Guzzi',\n",
       " 'https://www.moto1pro.com/marca-de-motos/Moto%20Morini',\n",
       " 'https://www.moto1pro.com/marca-de-motos/Motron',\n",
       " 'https://www.moto1pro.com/marca-de-motos/MV%20Agusta',\n",
       " 'https://www.moto1pro.com/marca-de-motos/NIU',\n",
       " 'https://www.moto1pro.com/marca-de-motos/Norton',\n",
       " 'https://www.moto1pro.com/marca-de-motos/Peugeot%20Motocycles',\n",
       " 'https://www.moto1pro.com/marca-de-motos/Piaggio',\n",
       " 'https://www.moto1pro.com/marca-de-motos/QJ%20Motor',\n",
       " 'https://www.moto1pro.com/marca-de-motos/Quadro',\n",
       " 'https://www.moto1pro.com/marca-de-motos/Rieju',\n",
       " 'https://www.moto1pro.com/marca-de-motos/Riya',\n",
       " 'https://www.moto1pro.com/marca-de-motos/Royal%20Enfield',\n",
       " 'https://www.moto1pro.com/marca-de-motos/Scomadi',\n",
       " 'https://www.moto1pro.com/marca-de-motos/Seat',\n",
       " 'https://www.moto1pro.com/marca-de-motos/Sherco',\n",
       " 'https://www.moto1pro.com/marca-de-motos/Silence',\n",
       " 'https://www.moto1pro.com/marca-de-motos/Super%20Soco',\n",
       " 'https://www.moto1pro.com/marca-de-motos/Suzuki',\n",
       " 'https://www.moto1pro.com/marca-de-motos/SWM',\n",
       " 'https://www.moto1pro.com/marca-de-motos/SYM',\n",
       " 'https://www.moto1pro.com/marca-de-motos/Torrot',\n",
       " 'https://www.moto1pro.com/marca-de-motos/Triumph',\n",
       " 'https://www.moto1pro.com/marca-de-motos/TRRS',\n",
       " 'https://www.moto1pro.com/marca-de-motos/Vertigo',\n",
       " 'https://www.moto1pro.com/marca-de-motos/Vespa',\n",
       " 'https://www.moto1pro.com/marca-de-motos/Victory',\n",
       " 'https://www.moto1pro.com/marca-de-motos/VOGE',\n",
       " 'https://www.moto1pro.com/marca-de-motos/Wottan',\n",
       " 'https://www.moto1pro.com/marca-de-motos/Yamaha',\n",
       " 'https://www.moto1pro.com/marca-de-motos/Zero',\n",
       " 'https://www.moto1pro.com/marca-de-motos/Zontes']"
      ]
     },
     "execution_count": 16,
     "metadata": {},
     "output_type": "execute_result"
    }
   ],
   "source": [
    "links_marcas = []\n",
    "for e in links:\n",
    "    if 'marca-de-motos/' in e:\n",
    "        links_marcas.append(e)\n",
    "links_marcas"
   ]
  },
  {
   "cell_type": "code",
   "execution_count": 17,
   "id": "c82b05ab-402b-4386-b524-eeedd704dc45",
   "metadata": {},
   "outputs": [],
   "source": [
    "links_marcas = driver.find_elements(By.XPATH, \"//a[@href]\")"
   ]
  },
  {
   "cell_type": "code",
   "execution_count": 18,
   "id": "d3233caf-afee-4eb0-b2c6-b2fd3f426e29",
   "metadata": {},
   "outputs": [],
   "source": [
    "# columns_filtering = ['Marca de la moto',\n",
    "#  'Modelo'\n",
    "#  'Precio de la moto',\n",
    "#  'Tipo de Carné',\n",
    "#  'Tipo de moto',\n",
    "#  'Versión / Año',\n",
    "#  'Web del fabricante',\n",
    "#  'Cilindrada',\n",
    "#  'Potencia Máxima Declarada',\n",
    "#  'Altura asiento']"
   ]
  },
  {
   "cell_type": "code",
   "execution_count": 20,
   "id": "bb64436a-0305-49d3-973f-c2d50e4667d9",
   "metadata": {},
   "outputs": [
    {
     "ename": "InvalidArgumentException",
     "evalue": "Message: invalid argument: 'url' must be a string\n  (Session info: chrome=110.0.5481.178)\nStacktrace:\nBacktrace:\n\t(No symbol) [0x004437D3]\n\t(No symbol) [0x003D8B81]\n\t(No symbol) [0x002DB36D]\n\t(No symbol) [0x00341E98]\n\t(No symbol) [0x0032B41C]\n\t(No symbol) [0x00341215]\n\t(No symbol) [0x0032B216]\n\t(No symbol) [0x00300D97]\n\t(No symbol) [0x0030253D]\n\tGetHandleVerifier [0x006BABF2+2510930]\n\tGetHandleVerifier [0x006E8EC1+2700065]\n\tGetHandleVerifier [0x006EC86C+2714828]\n\tGetHandleVerifier [0x004F3480+645344]\n\t(No symbol) [0x003E0FD2]\n\t(No symbol) [0x003E6C68]\n\t(No symbol) [0x003E6D4B]\n\t(No symbol) [0x003F0D6B]\n\tBaseThreadInitThunk [0x776800F9+25]\n\tRtlGetAppContainerNamedObjectPath [0x77EB7BBE+286]\n\tRtlGetAppContainerNamedObjectPath [0x77EB7B8E+238]\n",
     "output_type": "error",
     "traceback": [
      "\u001b[1;31m---------------------------------------------------------------------------\u001b[0m",
      "\u001b[1;31mInvalidArgumentException\u001b[0m                  Traceback (most recent call last)",
      "\u001b[1;32m~\\AppData\\Local\\Temp\\ipykernel_4588\\1019136330.py\u001b[0m in \u001b[0;36m<module>\u001b[1;34m\u001b[0m\n\u001b[0;32m      1\u001b[0m \u001b[0mdfs\u001b[0m \u001b[1;33m=\u001b[0m \u001b[1;33m[\u001b[0m\u001b[1;33m]\u001b[0m\u001b[1;33m\u001b[0m\u001b[1;33m\u001b[0m\u001b[0m\n\u001b[0;32m      2\u001b[0m \u001b[1;32mfor\u001b[0m \u001b[0mlink\u001b[0m \u001b[1;32min\u001b[0m \u001b[0mlinks_marcas\u001b[0m\u001b[1;33m:\u001b[0m\u001b[1;33m\u001b[0m\u001b[1;33m\u001b[0m\u001b[0m\n\u001b[1;32m----> 3\u001b[1;33m     \u001b[0mdriver\u001b[0m\u001b[1;33m.\u001b[0m\u001b[0mget\u001b[0m\u001b[1;33m(\u001b[0m\u001b[0mlink\u001b[0m\u001b[1;33m)\u001b[0m\u001b[1;33m\u001b[0m\u001b[1;33m\u001b[0m\u001b[0m\n\u001b[0m\u001b[0;32m      4\u001b[0m \u001b[1;33m\u001b[0m\u001b[0m\n\u001b[0;32m      5\u001b[0m \u001b[1;31m# r = requests.get(link)\u001b[0m\u001b[1;33m\u001b[0m\u001b[1;33m\u001b[0m\u001b[0m\n",
      "\u001b[1;32m~\\anaconda3\\lib\\site-packages\\selenium\\webdriver\\remote\\webdriver.py\u001b[0m in \u001b[0;36mget\u001b[1;34m(self, url)\u001b[0m\n\u001b[0;32m    447\u001b[0m     \u001b[1;32mdef\u001b[0m \u001b[0mget\u001b[0m\u001b[1;33m(\u001b[0m\u001b[0mself\u001b[0m\u001b[1;33m,\u001b[0m \u001b[0murl\u001b[0m\u001b[1;33m:\u001b[0m \u001b[0mstr\u001b[0m\u001b[1;33m)\u001b[0m \u001b[1;33m->\u001b[0m \u001b[1;32mNone\u001b[0m\u001b[1;33m:\u001b[0m\u001b[1;33m\u001b[0m\u001b[1;33m\u001b[0m\u001b[0m\n\u001b[0;32m    448\u001b[0m         \u001b[1;34m\"\"\"Loads a web page in the current browser session.\"\"\"\u001b[0m\u001b[1;33m\u001b[0m\u001b[1;33m\u001b[0m\u001b[0m\n\u001b[1;32m--> 449\u001b[1;33m         \u001b[0mself\u001b[0m\u001b[1;33m.\u001b[0m\u001b[0mexecute\u001b[0m\u001b[1;33m(\u001b[0m\u001b[0mCommand\u001b[0m\u001b[1;33m.\u001b[0m\u001b[0mGET\u001b[0m\u001b[1;33m,\u001b[0m \u001b[1;33m{\u001b[0m\u001b[1;34m\"url\"\u001b[0m\u001b[1;33m:\u001b[0m \u001b[0murl\u001b[0m\u001b[1;33m}\u001b[0m\u001b[1;33m)\u001b[0m\u001b[1;33m\u001b[0m\u001b[1;33m\u001b[0m\u001b[0m\n\u001b[0m\u001b[0;32m    450\u001b[0m \u001b[1;33m\u001b[0m\u001b[0m\n\u001b[0;32m    451\u001b[0m     \u001b[1;33m@\u001b[0m\u001b[0mproperty\u001b[0m\u001b[1;33m\u001b[0m\u001b[1;33m\u001b[0m\u001b[0m\n",
      "\u001b[1;32m~\\anaconda3\\lib\\site-packages\\selenium\\webdriver\\remote\\webdriver.py\u001b[0m in \u001b[0;36mexecute\u001b[1;34m(self, driver_command, params)\u001b[0m\n\u001b[0;32m    438\u001b[0m         \u001b[0mresponse\u001b[0m \u001b[1;33m=\u001b[0m \u001b[0mself\u001b[0m\u001b[1;33m.\u001b[0m\u001b[0mcommand_executor\u001b[0m\u001b[1;33m.\u001b[0m\u001b[0mexecute\u001b[0m\u001b[1;33m(\u001b[0m\u001b[0mdriver_command\u001b[0m\u001b[1;33m,\u001b[0m \u001b[0mparams\u001b[0m\u001b[1;33m)\u001b[0m\u001b[1;33m\u001b[0m\u001b[1;33m\u001b[0m\u001b[0m\n\u001b[0;32m    439\u001b[0m         \u001b[1;32mif\u001b[0m \u001b[0mresponse\u001b[0m\u001b[1;33m:\u001b[0m\u001b[1;33m\u001b[0m\u001b[1;33m\u001b[0m\u001b[0m\n\u001b[1;32m--> 440\u001b[1;33m             \u001b[0mself\u001b[0m\u001b[1;33m.\u001b[0m\u001b[0merror_handler\u001b[0m\u001b[1;33m.\u001b[0m\u001b[0mcheck_response\u001b[0m\u001b[1;33m(\u001b[0m\u001b[0mresponse\u001b[0m\u001b[1;33m)\u001b[0m\u001b[1;33m\u001b[0m\u001b[1;33m\u001b[0m\u001b[0m\n\u001b[0m\u001b[0;32m    441\u001b[0m             \u001b[0mresponse\u001b[0m\u001b[1;33m[\u001b[0m\u001b[1;34m\"value\"\u001b[0m\u001b[1;33m]\u001b[0m \u001b[1;33m=\u001b[0m \u001b[0mself\u001b[0m\u001b[1;33m.\u001b[0m\u001b[0m_unwrap_value\u001b[0m\u001b[1;33m(\u001b[0m\u001b[0mresponse\u001b[0m\u001b[1;33m.\u001b[0m\u001b[0mget\u001b[0m\u001b[1;33m(\u001b[0m\u001b[1;34m\"value\"\u001b[0m\u001b[1;33m,\u001b[0m \u001b[1;32mNone\u001b[0m\u001b[1;33m)\u001b[0m\u001b[1;33m)\u001b[0m\u001b[1;33m\u001b[0m\u001b[1;33m\u001b[0m\u001b[0m\n\u001b[0;32m    442\u001b[0m             \u001b[1;32mreturn\u001b[0m \u001b[0mresponse\u001b[0m\u001b[1;33m\u001b[0m\u001b[1;33m\u001b[0m\u001b[0m\n",
      "\u001b[1;32m~\\anaconda3\\lib\\site-packages\\selenium\\webdriver\\remote\\errorhandler.py\u001b[0m in \u001b[0;36mcheck_response\u001b[1;34m(self, response)\u001b[0m\n\u001b[0;32m    243\u001b[0m                 \u001b[0malert_text\u001b[0m \u001b[1;33m=\u001b[0m \u001b[0mvalue\u001b[0m\u001b[1;33m[\u001b[0m\u001b[1;34m\"alert\"\u001b[0m\u001b[1;33m]\u001b[0m\u001b[1;33m.\u001b[0m\u001b[0mget\u001b[0m\u001b[1;33m(\u001b[0m\u001b[1;34m\"text\"\u001b[0m\u001b[1;33m)\u001b[0m\u001b[1;33m\u001b[0m\u001b[1;33m\u001b[0m\u001b[0m\n\u001b[0;32m    244\u001b[0m             \u001b[1;32mraise\u001b[0m \u001b[0mexception_class\u001b[0m\u001b[1;33m(\u001b[0m\u001b[0mmessage\u001b[0m\u001b[1;33m,\u001b[0m \u001b[0mscreen\u001b[0m\u001b[1;33m,\u001b[0m \u001b[0mstacktrace\u001b[0m\u001b[1;33m,\u001b[0m \u001b[0malert_text\u001b[0m\u001b[1;33m)\u001b[0m  \u001b[1;31m# type: ignore[call-arg]  # mypy is not smart enough here\u001b[0m\u001b[1;33m\u001b[0m\u001b[1;33m\u001b[0m\u001b[0m\n\u001b[1;32m--> 245\u001b[1;33m         \u001b[1;32mraise\u001b[0m \u001b[0mexception_class\u001b[0m\u001b[1;33m(\u001b[0m\u001b[0mmessage\u001b[0m\u001b[1;33m,\u001b[0m \u001b[0mscreen\u001b[0m\u001b[1;33m,\u001b[0m \u001b[0mstacktrace\u001b[0m\u001b[1;33m)\u001b[0m\u001b[1;33m\u001b[0m\u001b[1;33m\u001b[0m\u001b[0m\n\u001b[0m",
      "\u001b[1;31mInvalidArgumentException\u001b[0m: Message: invalid argument: 'url' must be a string\n  (Session info: chrome=110.0.5481.178)\nStacktrace:\nBacktrace:\n\t(No symbol) [0x004437D3]\n\t(No symbol) [0x003D8B81]\n\t(No symbol) [0x002DB36D]\n\t(No symbol) [0x00341E98]\n\t(No symbol) [0x0032B41C]\n\t(No symbol) [0x00341215]\n\t(No symbol) [0x0032B216]\n\t(No symbol) [0x00300D97]\n\t(No symbol) [0x0030253D]\n\tGetHandleVerifier [0x006BABF2+2510930]\n\tGetHandleVerifier [0x006E8EC1+2700065]\n\tGetHandleVerifier [0x006EC86C+2714828]\n\tGetHandleVerifier [0x004F3480+645344]\n\t(No symbol) [0x003E0FD2]\n\t(No symbol) [0x003E6C68]\n\t(No symbol) [0x003E6D4B]\n\t(No symbol) [0x003F0D6B]\n\tBaseThreadInitThunk [0x776800F9+25]\n\tRtlGetAppContainerNamedObjectPath [0x77EB7BBE+286]\n\tRtlGetAppContainerNamedObjectPath [0x77EB7B8E+238]\n"
     ]
    }
   ],
   "source": [
    "dfs = [] \n",
    "for link in links_marcas: \n",
    "    driver.get(link)\n",
    "\n",
    "# r = requests.get(link)\n",
    "# soup = BeautifulSoup(r.text, 'lxml')\n",
    "# title = soup.find_all('tr', class_=\"title\")\n",
    "# titles_clean = [e.text for e in title]\n",
    "# list_of_tuples = list(zip(titles_clean))\n",
    "# df = pd.DataFrame.from_records(list_of_tuples)\n",
    "# df_transpose = df.T\n",
    "# df_final = df_transpose[1:] \n",
    "# dfs.append(df_final)"
   ]
  },
  {
   "cell_type": "code",
   "execution_count": null,
   "id": "ea52251f-2c08-46be-b858-bf17e6354207",
   "metadata": {},
   "outputs": [],
   "source": []
  }
 ],
 "metadata": {
  "kernelspec": {
   "display_name": "Python 3 (ipykernel)",
   "language": "python",
   "name": "python3"
  },
  "language_info": {
   "codemirror_mode": {
    "name": "ipython",
    "version": 3
   },
   "file_extension": ".py",
   "mimetype": "text/x-python",
   "name": "python",
   "nbconvert_exporter": "python",
   "pygments_lexer": "ipython3",
   "version": "3.9.13"
  }
 },
 "nbformat": 4,
 "nbformat_minor": 5
}
