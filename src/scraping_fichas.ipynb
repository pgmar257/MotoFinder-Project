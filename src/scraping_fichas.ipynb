{
 "cells": [
  {
   "cell_type": "markdown",
   "metadata": {},
   "source": [
    "## WEB SCRAPING"
   ]
  },
  {
   "cell_type": "markdown",
   "metadata": {},
   "source": [
    "### Código utilizado durante el proceso de extración de fichas técnicas de motocicletas mediante web scraping"
   ]
  },
  {
   "cell_type": "markdown",
   "metadata": {},
   "source": [
    "Web scrapeada: https://www.moto1pro.com/"
   ]
  },
  {
   "cell_type": "code",
   "execution_count": 1,
   "metadata": {},
   "outputs": [],
   "source": [
    "from bs4 import BeautifulSoup\n",
    "import requests\n",
    "from lxml import html\n",
    "from urllib.parse import urljoin\n",
    "from selenium import webdriver\n",
    "import time\n",
    "from webdriver_manager.chrome import ChromeDriverManager\n",
    "from selenium.webdriver.chrome.options import Options\n",
    "from selenium.webdriver.common.by import By\n",
    "import warnings\n",
    "import pandas as pd\n",
    "from selenium.webdriver.support.ui import WebDriverWait   \n",
    "from selenium.webdriver.support import expected_conditions as EC  \n",
    "warnings.filterwarnings('ignore')\n",
    "options=Options()\n",
    "\n",
    "options.add_extension('../driver/adblock.crx')\n",
    "options.add_argument('--start-maximized')\n",
    "options.add_experimental_option(\"excludeSwitches\", [\"enable-automation\"])\n",
    "options.add_experimental_option('useAutomationExtension', False)\n",
    "#options.add_argument('--incognito')\n",
    "#options.add_argument('user-data-dir=selenium')"
   ]
  },
  {
   "cell_type": "code",
   "execution_count": 2,
   "metadata": {},
   "outputs": [],
   "source": [
    "PATH = ChromeDriverManager().install()"
   ]
  },
  {
   "cell_type": "code",
   "execution_count": 3,
   "metadata": {},
   "outputs": [],
   "source": [
    "driver = webdriver.Chrome(PATH, options=options)"
   ]
  },
  {
   "cell_type": "code",
   "execution_count": 4,
   "metadata": {},
   "outputs": [],
   "source": [
    "url = 'https://www.moto1pro.com/'"
   ]
  },
  {
   "cell_type": "code",
   "execution_count": 5,
   "metadata": {},
   "outputs": [],
   "source": [
    "driver.get(url)"
   ]
  },
  {
   "cell_type": "code",
   "execution_count": 6,
   "metadata": {},
   "outputs": [],
   "source": [
    "# Acepto las cookies\n",
    "cookies = driver.find_element(By.XPATH, '/html/body/div[11]/div[2]/div[1]/div[2]/div[2]/button[1]/p')\n",
    "cookies.click()\n",
    "time.sleep(0.5)"
   ]
  },
  {
   "cell_type": "code",
   "execution_count": 7,
   "metadata": {},
   "outputs": [],
   "source": [
    "#Accedo a las fichas tecnicas\n",
    "fichas = driver.find_elements(By.XPATH, '//*[@id=\"navWrapper\"]/li[6]/a')\n",
    "fichas[0].click()\n",
    "time.sleep(0.5)"
   ]
  },
  {
   "cell_type": "code",
   "execution_count": 8,
   "metadata": {},
   "outputs": [],
   "source": [
    "marcas_names = driver.find_elements(By.XPATH, '//*[@id=\"content\"]/div[4]/div[1]')\n",
    "#marcas_names"
   ]
  },
  {
   "cell_type": "code",
   "execution_count": 9,
   "metadata": {},
   "outputs": [],
   "source": [
    "string = marcas_names[0].text"
   ]
  },
  {
   "cell_type": "code",
   "execution_count": 10,
   "metadata": {},
   "outputs": [],
   "source": [
    "marcas_list = string.split('\\n')"
   ]
  },
  {
   "cell_type": "code",
   "execution_count": 11,
   "metadata": {},
   "outputs": [],
   "source": [
    "marcas_list = [marca.title() for marca in marcas_list]\n",
    "#marcas_list"
   ]
  },
  {
   "cell_type": "code",
   "execution_count": 12,
   "metadata": {},
   "outputs": [],
   "source": [
    "elems = driver.find_elements(By.XPATH, \"//a[@href]\")"
   ]
  },
  {
   "cell_type": "code",
   "execution_count": 13,
   "metadata": {},
   "outputs": [],
   "source": [
    "links = []\n",
    "for elem in elems:\n",
    "    links.append(elem.get_attribute(\"href\"))"
   ]
  },
  {
   "cell_type": "code",
   "execution_count": 14,
   "metadata": {},
   "outputs": [],
   "source": [
    "links = [elem.get_attribute(\"href\") for elem in elems]"
   ]
  },
  {
   "cell_type": "code",
   "execution_count": 15,
   "metadata": {},
   "outputs": [],
   "source": [
    "links_marcas = []              # Aquí me da todos los links de todas las marcas disponibles en la web\n",
    "for e in links:\n",
    "    if 'marca-de-motos/' in e:\n",
    "        links_marcas.append(e)\n",
    "#links_marcas"
   ]
  },
  {
   "cell_type": "code",
   "execution_count": 16,
   "metadata": {},
   "outputs": [],
   "source": [
    "url_base = \"https://www.moto1pro.com/marca-de-motos/\"                                    # Aquí filtro por las marcas que disponen de varios tipos/categorías de motocicletas\n",
    "marcas = ['Aprilia', 'Bmw', 'Ducati', 'Honda', 'Yamaha', 'Kawasaki', 'Suzuki', 'KTM']\n",
    "\n",
    "full_links = []                                                           \n",
    "visited_links = set()\n",
    "\n",
    "for marca in marcas:\n",
    "    url = urljoin(url_base, marca)\n",
    "    response = requests.get(url)\n",
    "    tree = html.fromstring(response.content)\n",
    "    div_content = tree.xpath('//div[@class=\"contenido-izquierda\"]')[0]\n",
    "    links = div_content.xpath('.//a/@href')\n",
    "    for link in links:\n",
    "        full_link = urljoin(url, link)\n",
    "        if full_link not in visited_links:\n",
    "            full_links.append(full_link)\n",
    "            visited_links.add(full_link)\n",
    "#full_links"
   ]
  },
  {
   "cell_type": "code",
   "execution_count": 17,
   "metadata": {},
   "outputs": [],
   "source": [
    "columns_filtering = ['Marca de la moto',   # Aquí realizo el filtrado de columnas que usaré para la ejecución/visualización del proyecto\n",
    " 'Modelo',                                 \n",
    " 'Precio de la moto',\n",
    " 'Tipo de Carné',\n",
    " 'Tipo de moto',\n",
    " 'Versión / Año',\n",
    " 'Web del fabricante',\n",
    " 'Cilindrada',\n",
    " 'Potencia Máxima Declarada',\n",
    " 'Altura asiento']"
   ]
  },
  {
   "cell_type": "code",
   "execution_count": 18,
   "metadata": {},
   "outputs": [
    {
     "name": "stdout",
     "output_type": "stream",
     "text": [
      "No se pudieron obtener los datos para el enlace: https://www.moto1pro.com/marca-de-motos/Aprilia/Aprilia-SX-125-2018\n",
      "No se pudieron obtener los datos para el enlace: https://www.moto1pro.com/marca-de-motos/Aprilia/Aprilia-RX-125-2018\n",
      "No se pudieron obtener los datos para el enlace: https://www.moto1pro.com/marca-de-motos/Aprilia/Aprilia-SX-50-Factory-2018\n",
      "No se pudieron obtener los datos para el enlace: https://www.moto1pro.com/marca-de-motos/Aprilia/Aprilia-RX-50-Factory-2018\n",
      "No se pudieron obtener los datos para el enlace: https://www.moto1pro.com/marca-de-motos/Aprilia/Aprilia-SR-50-Motard-2018\n",
      "No se pudieron obtener los datos para el enlace: https://www.moto1pro.com/marca-de-motos/Aprilia/Aprilia-SR-50-R-2018\n",
      "No se pudieron obtener los datos para el enlace: https://www.moto1pro.com/marca-de-motos/Aprilia/Aprilia-Tuono-125-2017\n",
      "No se pudieron obtener los datos para el enlace: https://www.moto1pro.com/marca-de-motos/Aprilia/Aprilia-Shiver-900-2017\n",
      "No se pudieron obtener los datos para el enlace: https://www.moto1pro.com/marca-de-motos/Aprilia/Aprilia-RS4-50-2016\n",
      "No se pudieron obtener los datos para el enlace: https://www.moto1pro.com/marca-de-motos/Aprilia/Aprilia-RS-125-2016\n",
      "No se pudieron obtener los datos para el enlace: https://www.moto1pro.com/marca-de-motos/Aprilia/Aprilia-RS-50-2016\n",
      "No se pudieron obtener los datos para el enlace: https://www.moto1pro.com/marca-de-motos/Aprilia/Aprilia-RX-50-2016\n",
      "No se pudieron obtener los datos para el enlace: https://www.moto1pro.com/marca-de-motos/Aprilia/Aprilia-SR-50-R\n",
      "No se pudieron obtener los datos para el enlace: https://www.moto1pro.com/marca-de-motos/Aprilia/Aprilia-SR-Motard-50-2016\n",
      "No se pudieron obtener los datos para el enlace: https://www.moto1pro.com/marca-de-motos/Aprilia/Aprilia-SX-50-2016\n",
      "No se pudieron obtener los datos para el enlace: https://www.moto1pro.com/marca-de-motos/BMW/BMW-CE-04-A1-2022\n",
      "No se pudieron obtener los datos para el enlace: https://www.moto1pro.com/marca-de-motos/BMW/BMW-CE-04-A2-2022\n",
      "No se pudieron obtener los datos para el enlace: https://www.moto1pro.com/marca-de-motos/BMW/BMW-C-Evolution-2017\n",
      "No se pudieron obtener los datos para el enlace: https://www.moto1pro.com/marca-de-motos/BMW/BMW-C-Evolution-2016\n",
      "No se pudieron obtener los datos para el enlace: https://www.moto1pro.com/marca-de-motos/Ducati/Ducati-1200-Multistrada-Enduro\n",
      "No se pudieron obtener los datos para el enlace: https://www.moto1pro.com/marca-de-motos/Ducati/Ducati-1299-Panigale-S-2016\n",
      "No se pudieron obtener los datos para el enlace: https://www.moto1pro.com/marca-de-motos/Honda/Honda-CRF-450-L-2020\n",
      "No se pudieron obtener los datos para el enlace: https://www.moto1pro.com/marca-de-motos/Honda/Honda-CRF-450RX-2020\n",
      "No se pudieron obtener los datos para el enlace: https://www.moto1pro.com/marca-de-motos/Honda/Honda-CRF-450R-2020\n",
      "No se pudieron obtener los datos para el enlace: https://www.moto1pro.com/marca-de-motos/Honda/Honda-CRF-250RX-2020\n",
      "No se pudieron obtener los datos para el enlace: https://www.moto1pro.com/marca-de-motos/Honda/Honda-CRF-250R-2020\n",
      "No se pudieron obtener los datos para el enlace: https://www.moto1pro.com/marca-de-motos/Yamaha/Yamaha-Neo's-2022\n",
      "No se pudieron obtener los datos para el enlace: https://www.moto1pro.com/marca-de-motos/Yamaha/Yamaha-WR-450F-2019\n",
      "No se pudieron obtener los datos para el enlace: https://www.moto1pro.com/marca-de-motos/Yamaha/Yamaha-YZF-R6-2017\n",
      "No se pudieron obtener los datos para el enlace: https://www.moto1pro.com/marca-de-motos/Yamaha/Yamaha-MT-10-SP-2017\n",
      "No se pudieron obtener los datos para el enlace: https://www.moto1pro.com/marca-de-motos/Yamaha/Yamaha-MT-09-2017\n",
      "No se pudieron obtener los datos para el enlace: https://www.moto1pro.com/marca-de-motos/Yamaha/Yamaha-Aerox-R-2016\n",
      "No se pudieron obtener los datos para el enlace: https://www.moto1pro.com/marca-de-motos/Yamaha/Yamaha-EC-03-2016\n",
      "No se pudieron obtener los datos para el enlace: https://www.moto1pro.com/marca-de-motos/Kawasaki/Kawasaki-Ninja-ZX-10-RR-2021\n",
      "No se pudieron obtener los datos para el enlace: https://www.moto1pro.com/marca-de-motos/Kawasaki/Kawasaki-Ninja-ZX-10-R-2021\n",
      "No se pudieron obtener los datos para el enlace: https://www.moto1pro.com/marca-de-motos/Kawasaki/Kawasaki-Ninja-ZX-10-R-2019\n",
      "No se pudieron obtener los datos para el enlace: https://www.moto1pro.com/marca-de-motos/Kawasaki/Kawasaki-Ninja-ZX-10-RR-2017\n",
      "No se pudieron obtener los datos para el enlace: https://www.moto1pro.com/marca-de-motos/Kawasaki/Kawasaki-Versys-X-300-2017\n",
      "No se pudieron obtener los datos para el enlace: https://www.moto1pro.com/marca-de-motos/Kawasaki/Kawasaki-ZZR-1400-2016\n",
      "No se pudieron obtener los datos para el enlace: https://www.moto1pro.com/marca-de-motos/Kawasaki/Kawasaki-Ninja-H2R-2016\n",
      "No se pudieron obtener los datos para el enlace: https://www.moto1pro.com/marca-de-motos/Suzuki/Suzuki-Address-125-2018\n",
      "No se pudieron obtener los datos para el enlace: https://www.moto1pro.com/marca-de-motos/Suzuki/Suzuki-Burgman-400-2017\n",
      "No se pudieron obtener los datos para el enlace: https://www.moto1pro.com/marca-de-motos/Suzuki/Suzuki-V-Strom-250-2017\n",
      "No se pudieron obtener los datos para el enlace: https://www.moto1pro.com/marca-de-motos/Suzuki/Suzuki-Intruder-M1800-R-2016\n",
      "No se pudieron obtener los datos para el enlace: https://www.moto1pro.com/marca-de-motos/Suzuki/Suzuki-Van-Van-200-2016\n",
      "No se pudieron obtener los datos para el enlace: https://www.moto1pro.com/marca-de-motos/Suzuki/Suzuki-Intruder-M800-2016\n",
      "No se pudieron obtener los datos para el enlace: https://www.moto1pro.com/marca-de-motos/Suzuki/Suzuki-GSX-S1000-F-2016\n",
      "No se pudieron obtener los datos para el enlace: https://www.moto1pro.com/marca-de-motos/Suzuki/Suzuki-Intruder-C1500-T-2016\n",
      "No se pudieron obtener los datos para el enlace: https://www.moto1pro.com/marca-de-motos/Suzuki/Suzuki-Intruder-C800-B-2016\n",
      "No se pudieron obtener los datos para el enlace: https://www.moto1pro.com/marca-de-motos/Suzuki/Suzuki-Burgman-200-2016\n",
      "No se pudieron obtener los datos para el enlace: https://www.moto1pro.com/marca-de-motos/Suzuki/Suzuki-GSX-R1000-2016\n",
      "No se pudieron obtener los datos para el enlace: https://www.moto1pro.com/marca-de-motos/Suzuki/Suzuki-GSX-R600-2016\n",
      "No se pudieron obtener los datos para el enlace: https://www.moto1pro.com/marca-de-motos/Suzuki/Suzuki-GSX-R750-2016\n",
      "No se pudieron obtener los datos para el enlace: https://www.moto1pro.com/marca-de-motos/Suzuki/Suzuki-GSX-S1000-2016\n",
      "No se pudieron obtener los datos para el enlace: https://www.moto1pro.com/marca-de-motos/Suzuki/Suzuki-Address-2016\n",
      "No se pudieron obtener los datos para el enlace: https://www.moto1pro.com/marca-de-motos/Suzuki/Suzuki-GSX-650-F-2016\n",
      "No se pudieron obtener los datos para el enlace: https://www.moto1pro.com/marca-de-motos/Suzuki/Suzuki-Burgman-125-2016\n",
      "No se pudieron obtener los datos para el enlace: https://www.moto1pro.com/marca-de-motos/KTM/KTM-250-EXC-F-2020-Six-Days\n",
      "No se pudieron obtener los datos para el enlace: https://www.moto1pro.com/marca-de-motos/KTM/KTM-250-EXC-F-2020\n",
      "No se pudieron obtener los datos para el enlace: https://www.moto1pro.com/marca-de-motos/KTM/KTM-350-EXC-F-2020-Six-Days\n",
      "No se pudieron obtener los datos para el enlace: https://www.moto1pro.com/marca-de-motos/KTM/KTM-350-EXC-F-2020\n",
      "No se pudieron obtener los datos para el enlace: https://www.moto1pro.com/marca-de-motos/KTM/KTM-450-EXC-F-2020-Six-Days\n",
      "No se pudieron obtener los datos para el enlace: https://www.moto1pro.com/marca-de-motos/KTM/KTM-450-EXC-F-2020\n",
      "No se pudieron obtener los datos para el enlace: https://www.moto1pro.com/marca-de-motos/KTM/KTM-500-EXC-F-2020-Six-Days\n",
      "No se pudieron obtener los datos para el enlace: https://www.moto1pro.com/marca-de-motos/KTM/KTM-500-EXC-F-2020\n",
      "No se pudieron obtener los datos para el enlace: https://www.moto1pro.com/marca-de-motos/KTM/KTM-150-EXC-TPI-2020\n",
      "No se pudieron obtener los datos para el enlace: https://www.moto1pro.com/marca-de-motos/KTM/KTM-250-EXC-TPI-2020-Six-Days\n",
      "No se pudieron obtener los datos para el enlace: https://www.moto1pro.com/marca-de-motos/KTM/KTM-250-EXC-TPI-2020\n",
      "No se pudieron obtener los datos para el enlace: https://www.moto1pro.com/marca-de-motos/KTM/KTM-300-EXC-TPI-2020-Six-Days\n",
      "No se pudieron obtener los datos para el enlace: https://www.moto1pro.com/marca-de-motos/KTM/KTM-300-EXC-TPI-2020-Erzbergrodeo\n",
      "No se pudieron obtener los datos para el enlace: https://www.moto1pro.com/marca-de-motos/KTM/KTM-300-EXC-TPI-2020\n",
      "No se pudieron obtener los datos para el enlace: https://www.moto1pro.com/marca-de-motos/KTM/KTM-125-XC-W-2019\n",
      "No se pudieron obtener los datos para el enlace: https://www.moto1pro.com/marca-de-motos/KTM/KTM-150-XC-W-2019\n",
      "No se pudieron obtener los datos para el enlace: https://www.moto1pro.com/marca-de-motos/KTM/KTM-250-EXC-TPI-2019\n",
      "No se pudieron obtener los datos para el enlace: https://www.moto1pro.com/marca-de-motos/KTM/KTM-300-EXC-TPI-2019\n",
      "No se pudieron obtener los datos para el enlace: https://www.moto1pro.com/marca-de-motos/KTM/KTM-250-EXC-F-2019\n",
      "No se pudieron obtener los datos para el enlace: https://www.moto1pro.com/marca-de-motos/KTM/KTM-350-EXC-F-2019\n",
      "No se pudieron obtener los datos para el enlace: https://www.moto1pro.com/marca-de-motos/KTM/KTM-450-EXC-F-2019\n",
      "No se pudieron obtener los datos para el enlace: https://www.moto1pro.com/marca-de-motos/KTM/KTM-500-EXC-F-2019\n",
      "No se pudieron obtener los datos para el enlace: https://www.moto1pro.com/marca-de-motos/KTM/KTM-Freeride-E-XC-2018\n",
      "No se pudieron obtener los datos para el enlace: https://www.moto1pro.com/marca-de-motos/KTM/KTM-Freeride-E-SM-2016\n",
      "No se pudieron obtener los datos para el enlace: https://www.moto1pro.com/marca-de-motos/KTM/KTM-1050-Adventure-2016\n",
      "No se pudieron obtener los datos para el enlace: https://www.moto1pro.com/marca-de-motos/KTM/KTM-125-Duke-2016\n"
     ]
    }
   ],
   "source": [
    "dfs = []                                        \n",
    "for link in full_links:\n",
    "    r = requests.get(link)\n",
    "    soup = BeautifulSoup(r.text, 'lxml')\n",
    "    data = {}\n",
    "    rows = soup.find_all('tr')\n",
    "\n",
    "    try:\n",
    "        for row in rows:\n",
    "            cells = row.find_all('td')\n",
    "            if len(cells) == 2:\n",
    "                key = cells[0].text.strip()\n",
    "                value = cells[1].text.strip()\n",
    "                data[key] = value\n",
    "        df = pd.DataFrame.from_records([data])\n",
    "        df_filtered = df[columns_filtering]                                  \n",
    "        dfs.append(df_filtered)\n",
    "    except:                                                                  \n",
    "        print(f\"No se pudieron obtener los datos para el enlace: {link}\")    "
   ]
  },
  {
   "cell_type": "code",
   "execution_count": 19,
   "metadata": {},
   "outputs": [],
   "source": [
    "df_final = pd.concat(dfs, ignore_index=True)\n",
    "#pd.set_option('display.max_columns', None)\n",
    "#pd.set_option('display.max_rows', None)"
   ]
  },
  {
   "cell_type": "code",
   "execution_count": 20,
   "metadata": {},
   "outputs": [
    {
     "data": {
      "text/html": [
       "<div>\n",
       "<style scoped>\n",
       "    .dataframe tbody tr th:only-of-type {\n",
       "        vertical-align: middle;\n",
       "    }\n",
       "\n",
       "    .dataframe tbody tr th {\n",
       "        vertical-align: top;\n",
       "    }\n",
       "\n",
       "    .dataframe thead th {\n",
       "        text-align: right;\n",
       "    }\n",
       "</style>\n",
       "<table border=\"1\" class=\"dataframe\">\n",
       "  <thead>\n",
       "    <tr style=\"text-align: right;\">\n",
       "      <th></th>\n",
       "      <th>Marca de la moto</th>\n",
       "      <th>Modelo</th>\n",
       "      <th>Precio de la moto</th>\n",
       "      <th>Tipo de Carné</th>\n",
       "      <th>Tipo de moto</th>\n",
       "      <th>Versión / Año</th>\n",
       "      <th>Web del fabricante</th>\n",
       "      <th>Cilindrada</th>\n",
       "      <th>Potencia Máxima Declarada</th>\n",
       "      <th>Altura asiento</th>\n",
       "    </tr>\n",
       "  </thead>\n",
       "  <tbody>\n",
       "    <tr>\n",
       "      <th>0</th>\n",
       "      <td>Aprilia</td>\n",
       "      <td>SR GT 125 2022</td>\n",
       "      <td>3.999 €</td>\n",
       "      <td>A1</td>\n",
       "      <td>Scooter</td>\n",
       "      <td>2022</td>\n",
       "      <td>www.aprilia.com</td>\n",
       "      <td>124 cc</td>\n",
       "      <td>15 cv</td>\n",
       "      <td>799 mm</td>\n",
       "    </tr>\n",
       "    <tr>\n",
       "      <th>1</th>\n",
       "      <td>Aprilia</td>\n",
       "      <td>Tuono 660 Factory 2022</td>\n",
       "      <td>10.999 €</td>\n",
       "      <td>A</td>\n",
       "      <td>Naked</td>\n",
       "      <td>2022</td>\n",
       "      <td>www.aprilia.com/es_ES/</td>\n",
       "      <td>659 cc</td>\n",
       "      <td>100 cv</td>\n",
       "      <td>820 mm</td>\n",
       "    </tr>\n",
       "    <tr>\n",
       "      <th>2</th>\n",
       "      <td>Aprilia</td>\n",
       "      <td>Tuareg 660 Evocative 2022</td>\n",
       "      <td>12.699 €</td>\n",
       "      <td>A</td>\n",
       "      <td>Trail</td>\n",
       "      <td>2022</td>\n",
       "      <td>www.aprilia.com/es_ES/</td>\n",
       "      <td>659 cc</td>\n",
       "      <td>80 cv</td>\n",
       "      <td>860 mm</td>\n",
       "    </tr>\n",
       "    <tr>\n",
       "      <th>3</th>\n",
       "      <td>Aprilia</td>\n",
       "      <td>Tuareg 660 2022</td>\n",
       "      <td>11.999 €</td>\n",
       "      <td>A</td>\n",
       "      <td>Trail</td>\n",
       "      <td>2022</td>\n",
       "      <td>www.aprilia.com/es_ES/</td>\n",
       "      <td>659 cc</td>\n",
       "      <td>80 cv</td>\n",
       "      <td>860 mm</td>\n",
       "    </tr>\n",
       "    <tr>\n",
       "      <th>4</th>\n",
       "      <td>Aprilia</td>\n",
       "      <td>RX 125 2021</td>\n",
       "      <td>3.999 €</td>\n",
       "      <td>A1</td>\n",
       "      <td>Naked</td>\n",
       "      <td>2021</td>\n",
       "      <td>http://www.aprilia.com/es_ES/</td>\n",
       "      <td>124 cc</td>\n",
       "      <td>15 cv</td>\n",
       "      <td>880 mm</td>\n",
       "    </tr>\n",
       "    <tr>\n",
       "      <th>...</th>\n",
       "      <td>...</td>\n",
       "      <td>...</td>\n",
       "      <td>...</td>\n",
       "      <td>...</td>\n",
       "      <td>...</td>\n",
       "      <td>...</td>\n",
       "      <td>...</td>\n",
       "      <td>...</td>\n",
       "      <td>...</td>\n",
       "      <td>...</td>\n",
       "    </tr>\n",
       "    <tr>\n",
       "      <th>628</th>\n",
       "      <td>KTM</td>\n",
       "      <td>RC 125</td>\n",
       "      <td>4.399 €</td>\n",
       "      <td>A1</td>\n",
       "      <td>Deportiva</td>\n",
       "      <td>2015</td>\n",
       "      <td>www.ktm.com</td>\n",
       "      <td>125 cc</td>\n",
       "      <td>15 cv</td>\n",
       "      <td>820 mm</td>\n",
       "    </tr>\n",
       "    <tr>\n",
       "      <th>629</th>\n",
       "      <td>KTM</td>\n",
       "      <td>RC 390</td>\n",
       "      <td>5.398 €</td>\n",
       "      <td>A2</td>\n",
       "      <td>Deportiva</td>\n",
       "      <td>2015</td>\n",
       "      <td>www.ktm.com</td>\n",
       "      <td>373 cc</td>\n",
       "      <td>44 cv</td>\n",
       "      <td>820 mm</td>\n",
       "    </tr>\n",
       "    <tr>\n",
       "      <th>630</th>\n",
       "      <td>KTM</td>\n",
       "      <td>1290 Super Adventure</td>\n",
       "      <td>17.953 €</td>\n",
       "      <td>A</td>\n",
       "      <td>Trail</td>\n",
       "      <td>2015</td>\n",
       "      <td>www.ktm.com</td>\n",
       "      <td>1.301 cc</td>\n",
       "      <td>160 cv</td>\n",
       "      <td>860 mm</td>\n",
       "    </tr>\n",
       "    <tr>\n",
       "      <th>631</th>\n",
       "      <td>KTM</td>\n",
       "      <td>1290 Super Duke GT</td>\n",
       "      <td>18.586 €</td>\n",
       "      <td>A</td>\n",
       "      <td>Touring</td>\n",
       "      <td>2016</td>\n",
       "      <td>www.ktm.com</td>\n",
       "      <td>1.295 cc</td>\n",
       "      <td>173 cv</td>\n",
       "      <td>835 mm</td>\n",
       "    </tr>\n",
       "    <tr>\n",
       "      <th>632</th>\n",
       "      <td>KTM</td>\n",
       "      <td>1290 Super Duke R</td>\n",
       "      <td>16.318 €</td>\n",
       "      <td>A</td>\n",
       "      <td>Naked</td>\n",
       "      <td>2014</td>\n",
       "      <td>www.ktm.com</td>\n",
       "      <td>1.295 cc</td>\n",
       "      <td>180 cv</td>\n",
       "      <td>835 mm</td>\n",
       "    </tr>\n",
       "  </tbody>\n",
       "</table>\n",
       "<p>633 rows × 10 columns</p>\n",
       "</div>"
      ],
      "text/plain": [
       "    Marca de la moto                     Modelo Precio de la moto  \\\n",
       "0            Aprilia             SR GT 125 2022           3.999 €   \n",
       "1            Aprilia     Tuono 660 Factory 2022          10.999 €   \n",
       "2            Aprilia  Tuareg 660 Evocative 2022          12.699 €   \n",
       "3            Aprilia            Tuareg 660 2022          11.999 €   \n",
       "4            Aprilia                RX 125 2021           3.999 €   \n",
       "..               ...                        ...               ...   \n",
       "628              KTM                     RC 125           4.399 €   \n",
       "629              KTM                     RC 390           5.398 €   \n",
       "630              KTM       1290 Super Adventure          17.953 €   \n",
       "631              KTM         1290 Super Duke GT          18.586 €   \n",
       "632              KTM          1290 Super Duke R          16.318 €   \n",
       "\n",
       "    Tipo de Carné Tipo de moto Versión / Año             Web del fabricante  \\\n",
       "0              A1      Scooter          2022                www.aprilia.com   \n",
       "1               A        Naked          2022         www.aprilia.com/es_ES/   \n",
       "2               A        Trail          2022         www.aprilia.com/es_ES/   \n",
       "3               A        Trail          2022         www.aprilia.com/es_ES/   \n",
       "4              A1        Naked          2021  http://www.aprilia.com/es_ES/   \n",
       "..            ...          ...           ...                            ...   \n",
       "628            A1    Deportiva          2015                    www.ktm.com   \n",
       "629            A2    Deportiva          2015                    www.ktm.com   \n",
       "630             A        Trail          2015                    www.ktm.com   \n",
       "631             A      Touring          2016                    www.ktm.com   \n",
       "632             A        Naked          2014                    www.ktm.com   \n",
       "\n",
       "    Cilindrada Potencia Máxima Declarada Altura asiento  \n",
       "0       124 cc                     15 cv         799 mm  \n",
       "1       659 cc                    100 cv         820 mm  \n",
       "2       659 cc                     80 cv         860 mm  \n",
       "3       659 cc                     80 cv         860 mm  \n",
       "4       124 cc                     15 cv         880 mm  \n",
       "..         ...                       ...            ...  \n",
       "628     125 cc                     15 cv         820 mm  \n",
       "629     373 cc                     44 cv         820 mm  \n",
       "630   1.301 cc                    160 cv         860 mm  \n",
       "631   1.295 cc                    173 cv         835 mm  \n",
       "632   1.295 cc                    180 cv         835 mm  \n",
       "\n",
       "[633 rows x 10 columns]"
      ]
     },
     "execution_count": 20,
     "metadata": {},
     "output_type": "execute_result"
    }
   ],
   "source": [
    "df_final"
   ]
  },
  {
   "cell_type": "code",
   "execution_count": 21,
   "metadata": {},
   "outputs": [],
   "source": [
    "#df_motos = df_final"
   ]
  },
  {
   "cell_type": "code",
   "execution_count": 22,
   "metadata": {},
   "outputs": [],
   "source": [
    "#df_motos.to_csv('df_complete.csv')"
   ]
  }
 ],
 "metadata": {
  "kernelspec": {
   "display_name": "Python 3 (ipykernel)",
   "language": "python",
   "name": "python3"
  },
  "language_info": {
   "codemirror_mode": {
    "name": "ipython",
    "version": 3
   },
   "file_extension": ".py",
   "mimetype": "text/x-python",
   "name": "python",
   "nbconvert_exporter": "python",
   "pygments_lexer": "ipython3",
   "version": "3.9.13"
  }
 },
 "nbformat": 4,
 "nbformat_minor": 4
}
