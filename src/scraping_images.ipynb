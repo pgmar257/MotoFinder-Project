{
 "cells": [
  {
   "cell_type": "markdown",
   "id": "5db10d6e-f904-4fe1-8cbd-e91fc2b9d7e9",
   "metadata": {},
   "source": [
    "# WEB SCRAPING"
   ]
  },
  {
   "cell_type": "markdown",
   "id": "c53dc67b-9269-40b0-a968-c299e819929e",
   "metadata": {},
   "source": [
    "### Código utilizado durante el proceso de extracción de imágenes mediante web scraping"
   ]
  },
  {
   "cell_type": "markdown",
   "id": "2dc75b9f-b184-4164-994e-ff40ca84c434",
   "metadata": {},
   "source": [
    "Web scrapeada: https://www.moto1pro.com/"
   ]
  },
  {
   "cell_type": "code",
   "execution_count": 2,
   "id": "881ef6d7-ccd4-430e-b951-bd7a01a92d30",
   "metadata": {},
   "outputs": [],
   "source": [
    "from bs4 import BeautifulSoup\n",
    "import requests\n",
    "from lxml import html\n",
    "from urllib.parse import urljoin\n",
    "from selenium import webdriver\n",
    "from urllib.request import urlretrieve\n",
    "import time\n",
    "from webdriver_manager.chrome import ChromeDriverManager\n",
    "from selenium.webdriver.chrome.options import Options\n",
    "from selenium.webdriver.common.by import By\n",
    "import warnings\n",
    "import pandas as pd\n",
    "from selenium.webdriver.support.ui import WebDriverWait   \n",
    "from selenium.webdriver.support import expected_conditions as EC\n",
    "import csv\n",
    "warnings.filterwarnings('ignore')\n",
    "options=Options()\n",
    "\n",
    "options.add_extension('../driver/adblock.crx')\n",
    "options.add_argument('--start-maximized')\n",
    "options.add_experimental_option(\"excludeSwitches\", [\"enable-automation\"])\n",
    "options.add_experimental_option('useAutomationExtension', False)\n",
    "#options.add_argument('--incognito')\n",
    "#options.add_argument('user-data-dir=selenium')"
   ]
  },
  {
   "cell_type": "code",
   "execution_count": 3,
   "id": "e1390e66-f72b-4629-ba15-464231ef9a1a",
   "metadata": {},
   "outputs": [],
   "source": [
    "PATH = ChromeDriverManager().install()"
   ]
  },
  {
   "cell_type": "code",
   "execution_count": 4,
   "id": "7bcd2d14-655b-4828-bf8d-6e308de39309",
   "metadata": {},
   "outputs": [],
   "source": [
    "driver = webdriver.Chrome(PATH, options=options)"
   ]
  },
  {
   "cell_type": "code",
   "execution_count": 5,
   "id": "a874291b-e040-4fd9-93c7-a796b22a9016",
   "metadata": {},
   "outputs": [],
   "source": [
    "url = 'https://www.moto1pro.com/'"
   ]
  },
  {
   "cell_type": "code",
   "execution_count": 6,
   "id": "4c6c4794-922e-44b0-87f2-5b147bd7caf8",
   "metadata": {},
   "outputs": [],
   "source": [
    "driver.get(url)"
   ]
  },
  {
   "cell_type": "code",
   "execution_count": 7,
   "id": "cf60f8d1-2fe2-4dff-9c8f-91356ec21d6b",
   "metadata": {},
   "outputs": [],
   "source": [
    "# Acepto las cookies\n",
    "cookies = driver.find_element(By.XPATH, '/html/body/div[11]/div[2]/div[1]/div[2]/div[2]/button[1]/p')\n",
    "cookies.click()\n",
    "time.sleep(0.5)"
   ]
  },
  {
   "cell_type": "code",
   "execution_count": 8,
   "id": "eaeccad7-0fd1-45b6-9ba5-4a150ee10657",
   "metadata": {},
   "outputs": [],
   "source": [
    "#Accedo a las fichas tecnicas\n",
    "fichas = driver.find_elements(By.XPATH, '//*[@id=\"navWrapper\"]/li[6]/a')\n",
    "fichas[0].click()\n",
    "time.sleep(0.5)"
   ]
  },
  {
   "cell_type": "code",
   "execution_count": 9,
   "id": "6c4a75d3-d221-4550-90c4-2c5197880502",
   "metadata": {},
   "outputs": [],
   "source": [
    "elems = driver.find_elements(By.XPATH, \"//a[@href]\")"
   ]
  },
  {
   "cell_type": "code",
   "execution_count": 10,
   "id": "b3fec31d-62f8-4b92-b790-3dacabce868c",
   "metadata": {},
   "outputs": [],
   "source": [
    "links = []\n",
    "for elem in elems:\n",
    "    links.append(elem.get_attribute(\"href\"))"
   ]
  },
  {
   "cell_type": "code",
   "execution_count": 11,
   "id": "629656b4-7048-4d64-a182-8a2a7cb29b25",
   "metadata": {},
   "outputs": [],
   "source": [
    "links = [elem.get_attribute(\"href\") for elem in elems]"
   ]
  },
  {
   "cell_type": "code",
   "execution_count": 12,
   "id": "12c564b4-b6fb-4877-9187-ae2d069a9487",
   "metadata": {},
   "outputs": [],
   "source": [
    "links_marcas = []             \n",
    "for e in links:\n",
    "    if 'marca-de-motos/' in e:\n",
    "        links_marcas.append(e)\n",
    "#links_marcas"
   ]
  },
  {
   "cell_type": "code",
   "execution_count": 13,
   "id": "6ff8e49d-36dd-4b5e-9f73-4ff5b45bbe6f",
   "metadata": {},
   "outputs": [],
   "source": [
    "url_base = \"https://www.moto1pro.com/marca-de-motos/\"                                    \n",
    "marcas = ['Aprilia', 'Bmw', 'Ducati', 'Honda', 'Yamaha', 'Kawasaki', 'Suzuki', 'KTM']\n",
    "\n",
    "full_links = []                                                           \n",
    "visited_links = set()\n",
    "\n",
    "for marca in marcas:\n",
    "    url = urljoin(url_base, marca)\n",
    "    response = requests.get(url)\n",
    "    tree = html.fromstring(response.content)\n",
    "    div_content = tree.xpath('//div[@class=\"contenido-izquierda\"]')[0]\n",
    "    links = div_content.xpath('.//a/@href')\n",
    "    for link in links:\n",
    "        full_link = urljoin(url, link)\n",
    "        if full_link not in visited_links:\n",
    "            full_links.append(full_link)\n",
    "            visited_links.add(full_link)\n",
    "#full_links"
   ]
  },
  {
   "cell_type": "code",
   "execution_count": 14,
   "id": "9fb9b2d5-66d3-4237-83b2-9ea13b836fa9",
   "metadata": {},
   "outputs": [],
   "source": [
    "url_base = \"https://www.moto1pro.com/marca-de-motos\"\n",
    "marcas = ['Aprilia', 'Bmw', 'Ducati', 'Honda', 'Yamaha', 'Kawasaki', 'Suzuki', 'KTM']\n",
    "\n",
    "image_links = []\n",
    "for marca in marcas:\n",
    "    full_link = urljoin(url_base, f\"marca-de-motos/{marca}\")\n",
    "    r = requests.get(full_link)\n",
    "    soup = BeautifulSoup(r.text, 'lxml')\n",
    "    try:\n",
    "        elements_with_image = soup.find_all('img', {'class': 'img-responsive'})\n",
    "        for element in elements_with_image:\n",
    "            image_links.append(element['src'])\n",
    "    except:\n",
    "        print(f\"No se pudieron obtener los datos para la marca: {marca}\")\n",
    "\n",
    "df = pd.DataFrame({'image_links': image_links})"
   ]
  },
  {
   "cell_type": "code",
   "execution_count": 15,
   "id": "bd26e7ff-3328-44d7-af14-b86e51fcba13",
   "metadata": {},
   "outputs": [],
   "source": [
    "pd.set_option('display.max_colwidth', None)"
   ]
  },
  {
   "cell_type": "code",
   "execution_count": 16,
   "id": "d68b909f-ce73-4f02-af9f-b70544ee7366",
   "metadata": {},
   "outputs": [],
   "source": [
    "df_images = df"
   ]
  },
  {
   "cell_type": "code",
   "execution_count": 17,
   "id": "39832927-e7cd-4e2d-9dac-540139de88e3",
   "metadata": {},
   "outputs": [
    {
     "data": {
      "text/html": [
       "<div>\n",
       "<style scoped>\n",
       "    .dataframe tbody tr th:only-of-type {\n",
       "        vertical-align: middle;\n",
       "    }\n",
       "\n",
       "    .dataframe tbody tr th {\n",
       "        vertical-align: top;\n",
       "    }\n",
       "\n",
       "    .dataframe thead th {\n",
       "        text-align: right;\n",
       "    }\n",
       "</style>\n",
       "<table border=\"1\" class=\"dataframe\">\n",
       "  <thead>\n",
       "    <tr style=\"text-align: right;\">\n",
       "      <th></th>\n",
       "      <th>image_links</th>\n",
       "    </tr>\n",
       "  </thead>\n",
       "  <tbody>\n",
       "    <tr>\n",
       "      <th>0</th>\n",
       "      <td>https://motos-b60.kxcdn.com/sites/default/files/aprilia-sr-gt-125-2022.jpg</td>\n",
       "    </tr>\n",
       "    <tr>\n",
       "      <th>1</th>\n",
       "      <td>https://motos-b60.kxcdn.com/sites/default/files/aprilia-tuono-660-factory.jpg</td>\n",
       "    </tr>\n",
       "    <tr>\n",
       "      <th>2</th>\n",
       "      <td>https://motos-b60.kxcdn.com/sites/default/files/aprilia-tuareg-660-evocative.jpg</td>\n",
       "    </tr>\n",
       "    <tr>\n",
       "      <th>3</th>\n",
       "      <td>https://motos-b60.kxcdn.com/sites/default/files/aprilia-tuareg-660.jpg</td>\n",
       "    </tr>\n",
       "    <tr>\n",
       "      <th>4</th>\n",
       "      <td>https://motos-b60.kxcdn.com/sites/default/files/aprilia-rx-125-2021.jpg</td>\n",
       "    </tr>\n",
       "    <tr>\n",
       "      <th>...</th>\n",
       "      <td>...</td>\n",
       "    </tr>\n",
       "    <tr>\n",
       "      <th>713</th>\n",
       "      <td>https://motos-b60.kxcdn.com/sites/default/files/KTM-1190-adveture-r-b.jpg</td>\n",
       "    </tr>\n",
       "    <tr>\n",
       "      <th>714</th>\n",
       "      <td>https://motos-b60.kxcdn.com/sites/default/files/timthumb_int_e137e728d58db641635454dd5fecceb5.timthumb.jpg</td>\n",
       "    </tr>\n",
       "    <tr>\n",
       "      <th>715</th>\n",
       "      <td>https://motos-b60.kxcdn.com/sites/default/files/ktm-duke-125.jpg</td>\n",
       "    </tr>\n",
       "    <tr>\n",
       "      <th>716</th>\n",
       "      <td>https://motos-b60.kxcdn.com/sites/default/files/ktm-rc-390-2016.jpg</td>\n",
       "    </tr>\n",
       "    <tr>\n",
       "      <th>717</th>\n",
       "      <td>https://motos-b60.kxcdn.com/sites/default/files/ktm-super-adventure.jpg</td>\n",
       "    </tr>\n",
       "  </tbody>\n",
       "</table>\n",
       "<p>718 rows × 1 columns</p>\n",
       "</div>"
      ],
      "text/plain": [
       "                                                                                                    image_links\n",
       "0                                    https://motos-b60.kxcdn.com/sites/default/files/aprilia-sr-gt-125-2022.jpg\n",
       "1                                 https://motos-b60.kxcdn.com/sites/default/files/aprilia-tuono-660-factory.jpg\n",
       "2                              https://motos-b60.kxcdn.com/sites/default/files/aprilia-tuareg-660-evocative.jpg\n",
       "3                                        https://motos-b60.kxcdn.com/sites/default/files/aprilia-tuareg-660.jpg\n",
       "4                                       https://motos-b60.kxcdn.com/sites/default/files/aprilia-rx-125-2021.jpg\n",
       "..                                                                                                          ...\n",
       "713                                   https://motos-b60.kxcdn.com/sites/default/files/KTM-1190-adveture-r-b.jpg\n",
       "714  https://motos-b60.kxcdn.com/sites/default/files/timthumb_int_e137e728d58db641635454dd5fecceb5.timthumb.jpg\n",
       "715                                            https://motos-b60.kxcdn.com/sites/default/files/ktm-duke-125.jpg\n",
       "716                                         https://motos-b60.kxcdn.com/sites/default/files/ktm-rc-390-2016.jpg\n",
       "717                                     https://motos-b60.kxcdn.com/sites/default/files/ktm-super-adventure.jpg\n",
       "\n",
       "[718 rows x 1 columns]"
      ]
     },
     "execution_count": 17,
     "metadata": {},
     "output_type": "execute_result"
    }
   ],
   "source": [
    "df_images"
   ]
  },
  {
   "cell_type": "code",
   "execution_count": 71,
   "id": "99c80007-feaf-48c9-b7bd-a61d7f09cd2f",
   "metadata": {},
   "outputs": [],
   "source": [
    "#df_images.to_csv('image_URL.csv')"
   ]
  }
 ],
 "metadata": {
  "kernelspec": {
   "display_name": "Python 3 (ipykernel)",
   "language": "python",
   "name": "python3"
  },
  "language_info": {
   "codemirror_mode": {
    "name": "ipython",
    "version": 3
   },
   "file_extension": ".py",
   "mimetype": "text/x-python",
   "name": "python",
   "nbconvert_exporter": "python",
   "pygments_lexer": "ipython3",
   "version": "3.9.13"
  }
 },
 "nbformat": 4,
 "nbformat_minor": 5
}
