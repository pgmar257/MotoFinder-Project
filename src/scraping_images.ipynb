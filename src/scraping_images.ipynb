{
 "cells": [
  {
   "cell_type": "markdown",
   "id": "5db10d6e-f904-4fe1-8cbd-e91fc2b9d7e9",
   "metadata": {},
   "source": [
    "# WEB SCRAPING"
   ]
  },
  {
   "cell_type": "markdown",
   "id": "c53dc67b-9269-40b0-a968-c299e819929e",
   "metadata": {},
   "source": [
    "### Código utilizado durante el proceso de extracción de imágenes mediante web scraping"
   ]
  },
  {
   "cell_type": "markdown",
   "id": "2dc75b9f-b184-4164-994e-ff40ca84c434",
   "metadata": {},
   "source": [
    "Web scrapeada: https://www.moto1pro.com/"
   ]
  },
  {
   "cell_type": "code",
   "execution_count": 1,
   "id": "881ef6d7-ccd4-430e-b951-bd7a01a92d30",
   "metadata": {},
   "outputs": [],
   "source": [
    "from bs4 import BeautifulSoup\n",
    "import requests\n",
    "from lxml import html\n",
    "from urllib.parse import urljoin\n",
    "from selenium import webdriver\n",
    "from urllib.request import urlretrieve\n",
    "import time\n",
    "from webdriver_manager.chrome import ChromeDriverManager\n",
    "from selenium.webdriver.chrome.options import Options\n",
    "from selenium.webdriver.common.by import By\n",
    "import warnings\n",
    "import pandas as pd\n",
    "from selenium.webdriver.support.ui import WebDriverWait   \n",
    "from selenium.webdriver.support import expected_conditions as EC\n",
    "import csv\n",
    "warnings.filterwarnings('ignore')\n",
    "options=Options()\n",
    "\n",
    "options.add_extension('../driver/adblock.crx')\n",
    "options.add_argument('--start-maximized')\n",
    "options.add_experimental_option(\"excludeSwitches\", [\"enable-automation\"])\n",
    "options.add_experimental_option('useAutomationExtension', False)\n",
    "#options.add_argument('--incognito')\n",
    "#options.add_argument('user-data-dir=selenium')"
   ]
  },
  {
   "cell_type": "code",
   "execution_count": 2,
   "id": "e1390e66-f72b-4629-ba15-464231ef9a1a",
   "metadata": {},
   "outputs": [],
   "source": [
    "PATH = ChromeDriverManager().install()"
   ]
  },
  {
   "cell_type": "code",
   "execution_count": 3,
   "id": "7bcd2d14-655b-4828-bf8d-6e308de39309",
   "metadata": {},
   "outputs": [],
   "source": [
    "driver = webdriver.Chrome(PATH, options=options)"
   ]
  },
  {
   "cell_type": "code",
   "execution_count": 4,
   "id": "a874291b-e040-4fd9-93c7-a796b22a9016",
   "metadata": {},
   "outputs": [],
   "source": [
    "url = 'https://www.moto1pro.com/'"
   ]
  },
  {
   "cell_type": "code",
   "execution_count": 5,
   "id": "4c6c4794-922e-44b0-87f2-5b147bd7caf8",
   "metadata": {},
   "outputs": [],
   "source": [
    "driver.get(url)"
   ]
  },
  {
   "cell_type": "code",
   "execution_count": 6,
   "id": "cf60f8d1-2fe2-4dff-9c8f-91356ec21d6b",
   "metadata": {},
   "outputs": [],
   "source": [
    "# Acepto las cookies\n",
    "cookies = driver.find_element(By.XPATH, '/html/body/div[11]/div[2]/div[1]/div[2]/div[2]/button[1]/p')\n",
    "cookies.click()\n",
    "time.sleep(0.5)"
   ]
  },
  {
   "cell_type": "code",
   "execution_count": 7,
   "id": "eaeccad7-0fd1-45b6-9ba5-4a150ee10657",
   "metadata": {},
   "outputs": [
    {
     "ename": "TimeoutException",
     "evalue": "Message: timeout: Timed out receiving message from renderer: 300.000\n  (Session info: chrome=111.0.5563.64)\nStacktrace:\nBacktrace:\n\t(No symbol) [0x00EADCE3]\n\t(No symbol) [0x00E439D1]\n\t(No symbol) [0x00D54DA8]\n\t(No symbol) [0x00D480AF]\n\t(No symbol) [0x00D47EFC]\n\t(No symbol) [0x00D46BF6]\n\t(No symbol) [0x00D4747A]\n\t(No symbol) [0x00D4FF62]\n\t(No symbol) [0x00D5A348]\n\t(No symbol) [0x00D5CD46]\n\t(No symbol) [0x00D477D3]\n\t(No symbol) [0x00D5A211]\n\t(No symbol) [0x00DAD779]\n\t(No symbol) [0x00D9ACC6]\n\t(No symbol) [0x00D76F68]\n\t(No symbol) [0x00D780CD]\n\tGetHandleVerifier [0x01123832+2506274]\n\tGetHandleVerifier [0x01159794+2727300]\n\tGetHandleVerifier [0x0115E36C+2746716]\n\tGetHandleVerifier [0x00F56690+617600]\n\t(No symbol) [0x00E4C712]\n\t(No symbol) [0x00E51FF8]\n\t(No symbol) [0x00E520DB]\n\t(No symbol) [0x00E5C63B]\n\tBaseThreadInitThunk [0x776800F9+25]\n\tRtlGetAppContainerNamedObjectPath [0x77EB7BBE+286]\n\tRtlGetAppContainerNamedObjectPath [0x77EB7B8E+238]\n",
     "output_type": "error",
     "traceback": [
      "\u001b[1;31m---------------------------------------------------------------------------\u001b[0m",
      "\u001b[1;31mTimeoutException\u001b[0m                          Traceback (most recent call last)",
      "\u001b[1;32m~\\AppData\\Local\\Temp\\ipykernel_9352\\1564701160.py\u001b[0m in \u001b[0;36m<module>\u001b[1;34m\u001b[0m\n\u001b[0;32m      1\u001b[0m \u001b[1;31m#Accedo a las fichas tecnicas\u001b[0m\u001b[1;33m\u001b[0m\u001b[1;33m\u001b[0m\u001b[0m\n\u001b[0;32m      2\u001b[0m \u001b[0mfichas\u001b[0m \u001b[1;33m=\u001b[0m \u001b[0mdriver\u001b[0m\u001b[1;33m.\u001b[0m\u001b[0mfind_elements\u001b[0m\u001b[1;33m(\u001b[0m\u001b[0mBy\u001b[0m\u001b[1;33m.\u001b[0m\u001b[0mXPATH\u001b[0m\u001b[1;33m,\u001b[0m \u001b[1;34m'//*[@id=\"navWrapper\"]/li[6]/a'\u001b[0m\u001b[1;33m)\u001b[0m\u001b[1;33m\u001b[0m\u001b[1;33m\u001b[0m\u001b[0m\n\u001b[1;32m----> 3\u001b[1;33m \u001b[0mfichas\u001b[0m\u001b[1;33m[\u001b[0m\u001b[1;36m0\u001b[0m\u001b[1;33m]\u001b[0m\u001b[1;33m.\u001b[0m\u001b[0mclick\u001b[0m\u001b[1;33m(\u001b[0m\u001b[1;33m)\u001b[0m\u001b[1;33m\u001b[0m\u001b[1;33m\u001b[0m\u001b[0m\n\u001b[0m\u001b[0;32m      4\u001b[0m \u001b[0mtime\u001b[0m\u001b[1;33m.\u001b[0m\u001b[0msleep\u001b[0m\u001b[1;33m(\u001b[0m\u001b[1;36m0.5\u001b[0m\u001b[1;33m)\u001b[0m\u001b[1;33m\u001b[0m\u001b[1;33m\u001b[0m\u001b[0m\n",
      "\u001b[1;32m~\\anaconda3\\lib\\site-packages\\selenium\\webdriver\\remote\\webelement.py\u001b[0m in \u001b[0;36mclick\u001b[1;34m(self)\u001b[0m\n\u001b[0;32m     91\u001b[0m     \u001b[1;32mdef\u001b[0m \u001b[0mclick\u001b[0m\u001b[1;33m(\u001b[0m\u001b[0mself\u001b[0m\u001b[1;33m)\u001b[0m \u001b[1;33m->\u001b[0m \u001b[1;32mNone\u001b[0m\u001b[1;33m:\u001b[0m\u001b[1;33m\u001b[0m\u001b[1;33m\u001b[0m\u001b[0m\n\u001b[0;32m     92\u001b[0m         \u001b[1;34m\"\"\"Clicks the element.\"\"\"\u001b[0m\u001b[1;33m\u001b[0m\u001b[1;33m\u001b[0m\u001b[0m\n\u001b[1;32m---> 93\u001b[1;33m         \u001b[0mself\u001b[0m\u001b[1;33m.\u001b[0m\u001b[0m_execute\u001b[0m\u001b[1;33m(\u001b[0m\u001b[0mCommand\u001b[0m\u001b[1;33m.\u001b[0m\u001b[0mCLICK_ELEMENT\u001b[0m\u001b[1;33m)\u001b[0m\u001b[1;33m\u001b[0m\u001b[1;33m\u001b[0m\u001b[0m\n\u001b[0m\u001b[0;32m     94\u001b[0m \u001b[1;33m\u001b[0m\u001b[0m\n\u001b[0;32m     95\u001b[0m     \u001b[1;32mdef\u001b[0m \u001b[0msubmit\u001b[0m\u001b[1;33m(\u001b[0m\u001b[0mself\u001b[0m\u001b[1;33m)\u001b[0m\u001b[1;33m:\u001b[0m\u001b[1;33m\u001b[0m\u001b[1;33m\u001b[0m\u001b[0m\n",
      "\u001b[1;32m~\\anaconda3\\lib\\site-packages\\selenium\\webdriver\\remote\\webelement.py\u001b[0m in \u001b[0;36m_execute\u001b[1;34m(self, command, params)\u001b[0m\n\u001b[0;32m    401\u001b[0m             \u001b[0mparams\u001b[0m \u001b[1;33m=\u001b[0m \u001b[1;33m{\u001b[0m\u001b[1;33m}\u001b[0m\u001b[1;33m\u001b[0m\u001b[1;33m\u001b[0m\u001b[0m\n\u001b[0;32m    402\u001b[0m         \u001b[0mparams\u001b[0m\u001b[1;33m[\u001b[0m\u001b[1;34m\"id\"\u001b[0m\u001b[1;33m]\u001b[0m \u001b[1;33m=\u001b[0m \u001b[0mself\u001b[0m\u001b[1;33m.\u001b[0m\u001b[0m_id\u001b[0m\u001b[1;33m\u001b[0m\u001b[1;33m\u001b[0m\u001b[0m\n\u001b[1;32m--> 403\u001b[1;33m         \u001b[1;32mreturn\u001b[0m \u001b[0mself\u001b[0m\u001b[1;33m.\u001b[0m\u001b[0m_parent\u001b[0m\u001b[1;33m.\u001b[0m\u001b[0mexecute\u001b[0m\u001b[1;33m(\u001b[0m\u001b[0mcommand\u001b[0m\u001b[1;33m,\u001b[0m \u001b[0mparams\u001b[0m\u001b[1;33m)\u001b[0m\u001b[1;33m\u001b[0m\u001b[1;33m\u001b[0m\u001b[0m\n\u001b[0m\u001b[0;32m    404\u001b[0m \u001b[1;33m\u001b[0m\u001b[0m\n\u001b[0;32m    405\u001b[0m     \u001b[1;32mdef\u001b[0m \u001b[0mfind_element\u001b[0m\u001b[1;33m(\u001b[0m\u001b[0mself\u001b[0m\u001b[1;33m,\u001b[0m \u001b[0mby\u001b[0m\u001b[1;33m=\u001b[0m\u001b[0mBy\u001b[0m\u001b[1;33m.\u001b[0m\u001b[0mID\u001b[0m\u001b[1;33m,\u001b[0m \u001b[0mvalue\u001b[0m\u001b[1;33m=\u001b[0m\u001b[1;32mNone\u001b[0m\u001b[1;33m)\u001b[0m \u001b[1;33m->\u001b[0m \u001b[0mWebElement\u001b[0m\u001b[1;33m:\u001b[0m\u001b[1;33m\u001b[0m\u001b[1;33m\u001b[0m\u001b[0m\n",
      "\u001b[1;32m~\\anaconda3\\lib\\site-packages\\selenium\\webdriver\\remote\\webdriver.py\u001b[0m in \u001b[0;36mexecute\u001b[1;34m(self, driver_command, params)\u001b[0m\n\u001b[0;32m    438\u001b[0m         \u001b[0mresponse\u001b[0m \u001b[1;33m=\u001b[0m \u001b[0mself\u001b[0m\u001b[1;33m.\u001b[0m\u001b[0mcommand_executor\u001b[0m\u001b[1;33m.\u001b[0m\u001b[0mexecute\u001b[0m\u001b[1;33m(\u001b[0m\u001b[0mdriver_command\u001b[0m\u001b[1;33m,\u001b[0m \u001b[0mparams\u001b[0m\u001b[1;33m)\u001b[0m\u001b[1;33m\u001b[0m\u001b[1;33m\u001b[0m\u001b[0m\n\u001b[0;32m    439\u001b[0m         \u001b[1;32mif\u001b[0m \u001b[0mresponse\u001b[0m\u001b[1;33m:\u001b[0m\u001b[1;33m\u001b[0m\u001b[1;33m\u001b[0m\u001b[0m\n\u001b[1;32m--> 440\u001b[1;33m             \u001b[0mself\u001b[0m\u001b[1;33m.\u001b[0m\u001b[0merror_handler\u001b[0m\u001b[1;33m.\u001b[0m\u001b[0mcheck_response\u001b[0m\u001b[1;33m(\u001b[0m\u001b[0mresponse\u001b[0m\u001b[1;33m)\u001b[0m\u001b[1;33m\u001b[0m\u001b[1;33m\u001b[0m\u001b[0m\n\u001b[0m\u001b[0;32m    441\u001b[0m             \u001b[0mresponse\u001b[0m\u001b[1;33m[\u001b[0m\u001b[1;34m\"value\"\u001b[0m\u001b[1;33m]\u001b[0m \u001b[1;33m=\u001b[0m \u001b[0mself\u001b[0m\u001b[1;33m.\u001b[0m\u001b[0m_unwrap_value\u001b[0m\u001b[1;33m(\u001b[0m\u001b[0mresponse\u001b[0m\u001b[1;33m.\u001b[0m\u001b[0mget\u001b[0m\u001b[1;33m(\u001b[0m\u001b[1;34m\"value\"\u001b[0m\u001b[1;33m,\u001b[0m \u001b[1;32mNone\u001b[0m\u001b[1;33m)\u001b[0m\u001b[1;33m)\u001b[0m\u001b[1;33m\u001b[0m\u001b[1;33m\u001b[0m\u001b[0m\n\u001b[0;32m    442\u001b[0m             \u001b[1;32mreturn\u001b[0m \u001b[0mresponse\u001b[0m\u001b[1;33m\u001b[0m\u001b[1;33m\u001b[0m\u001b[0m\n",
      "\u001b[1;32m~\\anaconda3\\lib\\site-packages\\selenium\\webdriver\\remote\\errorhandler.py\u001b[0m in \u001b[0;36mcheck_response\u001b[1;34m(self, response)\u001b[0m\n\u001b[0;32m    243\u001b[0m                 \u001b[0malert_text\u001b[0m \u001b[1;33m=\u001b[0m \u001b[0mvalue\u001b[0m\u001b[1;33m[\u001b[0m\u001b[1;34m\"alert\"\u001b[0m\u001b[1;33m]\u001b[0m\u001b[1;33m.\u001b[0m\u001b[0mget\u001b[0m\u001b[1;33m(\u001b[0m\u001b[1;34m\"text\"\u001b[0m\u001b[1;33m)\u001b[0m\u001b[1;33m\u001b[0m\u001b[1;33m\u001b[0m\u001b[0m\n\u001b[0;32m    244\u001b[0m             \u001b[1;32mraise\u001b[0m \u001b[0mexception_class\u001b[0m\u001b[1;33m(\u001b[0m\u001b[0mmessage\u001b[0m\u001b[1;33m,\u001b[0m \u001b[0mscreen\u001b[0m\u001b[1;33m,\u001b[0m \u001b[0mstacktrace\u001b[0m\u001b[1;33m,\u001b[0m \u001b[0malert_text\u001b[0m\u001b[1;33m)\u001b[0m  \u001b[1;31m# type: ignore[call-arg]  # mypy is not smart enough here\u001b[0m\u001b[1;33m\u001b[0m\u001b[1;33m\u001b[0m\u001b[0m\n\u001b[1;32m--> 245\u001b[1;33m         \u001b[1;32mraise\u001b[0m \u001b[0mexception_class\u001b[0m\u001b[1;33m(\u001b[0m\u001b[0mmessage\u001b[0m\u001b[1;33m,\u001b[0m \u001b[0mscreen\u001b[0m\u001b[1;33m,\u001b[0m \u001b[0mstacktrace\u001b[0m\u001b[1;33m)\u001b[0m\u001b[1;33m\u001b[0m\u001b[1;33m\u001b[0m\u001b[0m\n\u001b[0m",
      "\u001b[1;31mTimeoutException\u001b[0m: Message: timeout: Timed out receiving message from renderer: 300.000\n  (Session info: chrome=111.0.5563.64)\nStacktrace:\nBacktrace:\n\t(No symbol) [0x00EADCE3]\n\t(No symbol) [0x00E439D1]\n\t(No symbol) [0x00D54DA8]\n\t(No symbol) [0x00D480AF]\n\t(No symbol) [0x00D47EFC]\n\t(No symbol) [0x00D46BF6]\n\t(No symbol) [0x00D4747A]\n\t(No symbol) [0x00D4FF62]\n\t(No symbol) [0x00D5A348]\n\t(No symbol) [0x00D5CD46]\n\t(No symbol) [0x00D477D3]\n\t(No symbol) [0x00D5A211]\n\t(No symbol) [0x00DAD779]\n\t(No symbol) [0x00D9ACC6]\n\t(No symbol) [0x00D76F68]\n\t(No symbol) [0x00D780CD]\n\tGetHandleVerifier [0x01123832+2506274]\n\tGetHandleVerifier [0x01159794+2727300]\n\tGetHandleVerifier [0x0115E36C+2746716]\n\tGetHandleVerifier [0x00F56690+617600]\n\t(No symbol) [0x00E4C712]\n\t(No symbol) [0x00E51FF8]\n\t(No symbol) [0x00E520DB]\n\t(No symbol) [0x00E5C63B]\n\tBaseThreadInitThunk [0x776800F9+25]\n\tRtlGetAppContainerNamedObjectPath [0x77EB7BBE+286]\n\tRtlGetAppContainerNamedObjectPath [0x77EB7B8E+238]\n"
     ]
    }
   ],
   "source": [
    "#Accedo a las fichas tecnicas\n",
    "fichas = driver.find_elements(By.XPATH, '//*[@id=\"navWrapper\"]/li[6]/a')\n",
    "fichas[0].click()\n",
    "time.sleep(0.5)"
   ]
  },
  {
   "cell_type": "code",
   "execution_count": null,
   "id": "6c4a75d3-d221-4550-90c4-2c5197880502",
   "metadata": {},
   "outputs": [],
   "source": [
    "elems = driver.find_elements(By.XPATH, \"//a[@href]\")"
   ]
  },
  {
   "cell_type": "code",
   "execution_count": null,
   "id": "b3fec31d-62f8-4b92-b790-3dacabce868c",
   "metadata": {},
   "outputs": [],
   "source": [
    "links = []\n",
    "for elem in elems:\n",
    "    links.append(elem.get_attribute(\"href\"))"
   ]
  },
  {
   "cell_type": "code",
   "execution_count": null,
   "id": "629656b4-7048-4d64-a182-8a2a7cb29b25",
   "metadata": {},
   "outputs": [],
   "source": [
    "links = [elem.get_attribute(\"href\") for elem in elems]"
   ]
  },
  {
   "cell_type": "code",
   "execution_count": null,
   "id": "12c564b4-b6fb-4877-9187-ae2d069a9487",
   "metadata": {},
   "outputs": [],
   "source": [
    "links_marcas = []             \n",
    "for e in links:\n",
    "    if 'marca-de-motos/' in e:\n",
    "        links_marcas.append(e)\n",
    "#links_marcas"
   ]
  },
  {
   "cell_type": "code",
   "execution_count": null,
   "id": "6ff8e49d-36dd-4b5e-9f73-4ff5b45bbe6f",
   "metadata": {},
   "outputs": [],
   "source": [
    "url_base = \"https://www.moto1pro.com/marca-de-motos/\"                                    \n",
    "marcas = ['Aprilia', 'Bmw', 'Ducati', 'Honda', 'Yamaha', 'Kawasaki', 'Suzuki', 'KTM']\n",
    "\n",
    "full_links = []                                                           \n",
    "visited_links = set()\n",
    "\n",
    "for marca in marcas:\n",
    "    url = urljoin(url_base, marca)\n",
    "    response = requests.get(url)\n",
    "    tree = html.fromstring(response.content)\n",
    "    div_content = tree.xpath('//div[@class=\"contenido-izquierda\"]')[0]\n",
    "    links = div_content.xpath('.//a/@href')\n",
    "    for link in links:\n",
    "        full_link = urljoin(url, link)\n",
    "        if full_link not in visited_links:\n",
    "            full_links.append(full_link)\n",
    "            visited_links.add(full_link)\n",
    "#full_links"
   ]
  },
  {
   "cell_type": "code",
   "execution_count": null,
   "id": "9fb9b2d5-66d3-4237-83b2-9ea13b836fa9",
   "metadata": {},
   "outputs": [],
   "source": [
    "url_base = \"https://www.moto1pro.com/marca-de-motos\"\n",
    "marcas = ['Aprilia', 'Bmw', 'Ducati', 'Honda', 'Yamaha', 'Kawasaki', 'Suzuki', 'KTM']\n",
    "\n",
    "image_links = []\n",
    "for marca in marcas:\n",
    "    full_link = urljoin(url_base, f\"marca-de-motos/{marca}\")\n",
    "    r = requests.get(full_link)\n",
    "    soup = BeautifulSoup(r.text, 'lxml')\n",
    "    try:\n",
    "        elements_with_image = soup.find_all('img', {'class': 'img-responsive'})\n",
    "        for element in elements_with_image:\n",
    "            image_links.append(element['src'])\n",
    "    except:\n",
    "        print(f\"No se pudieron obtener los datos para la marca: {marca}\")\n",
    "\n",
    "df = pd.DataFrame({'image_links': image_links})"
   ]
  },
  {
   "cell_type": "code",
   "execution_count": null,
   "id": "bd26e7ff-3328-44d7-af14-b86e51fcba13",
   "metadata": {},
   "outputs": [],
   "source": [
    "pd.set_option('display.max_colwidth', None)"
   ]
  },
  {
   "cell_type": "code",
   "execution_count": null,
   "id": "d68b909f-ce73-4f02-af9f-b70544ee7366",
   "metadata": {},
   "outputs": [],
   "source": [
    "df_images = df"
   ]
  },
  {
   "cell_type": "code",
   "execution_count": null,
   "id": "39832927-e7cd-4e2d-9dac-540139de88e3",
   "metadata": {},
   "outputs": [],
   "source": [
    "df_images"
   ]
  },
  {
   "cell_type": "code",
   "execution_count": null,
   "id": "99c80007-feaf-48c9-b7bd-a61d7f09cd2f",
   "metadata": {},
   "outputs": [],
   "source": [
    "#df_images.to_csv('image_URL.csv')"
   ]
  },
  {
   "cell_type": "code",
   "execution_count": null,
   "id": "a315006c-e773-4480-a742-ebfbb20fb1d0",
   "metadata": {},
   "outputs": [],
   "source": [
    "#df_images.to_csv('nuevo.csv', index=True)"
   ]
  },
  {
   "cell_type": "code",
   "execution_count": null,
   "id": "7c9346ab-1d50-4322-91d5-56677aedc46b",
   "metadata": {},
   "outputs": [],
   "source": []
  }
 ],
 "metadata": {
  "kernelspec": {
   "display_name": "Python 3 (ipykernel)",
   "language": "python",
   "name": "python3"
  },
  "language_info": {
   "codemirror_mode": {
    "name": "ipython",
    "version": 3
   },
   "file_extension": ".py",
   "mimetype": "text/x-python",
   "name": "python",
   "nbconvert_exporter": "python",
   "pygments_lexer": "ipython3",
   "version": "3.9.13"
  }
 },
 "nbformat": 4,
 "nbformat_minor": 5
}
