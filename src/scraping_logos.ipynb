{
 "cells": [
  {
   "cell_type": "code",
   "execution_count": 1,
   "id": "7f372f6c-c877-475b-ab45-2b00c991f8fd",
   "metadata": {},
   "outputs": [],
   "source": [
    "from bs4 import BeautifulSoup\n",
    "import requests\n",
    "from lxml import html\n",
    "from urllib.parse import urljoin\n",
    "from selenium import webdriver\n",
    "from urllib.request import urlretrieve\n",
    "import time\n",
    "from webdriver_manager.chrome import ChromeDriverManager\n",
    "from selenium.webdriver.chrome.options import Options\n",
    "from selenium.webdriver.common.by import By\n",
    "import warnings\n",
    "import pandas as pd\n",
    "from selenium.webdriver.support.ui import WebDriverWait   \n",
    "from selenium.webdriver.support import expected_conditions as EC\n",
    "import csv\n",
    "warnings.filterwarnings('ignore')\n",
    "options=Options()\n",
    "\n",
    "options.add_extension('../driver/adblock.crx')\n",
    "options.add_argument('--start-maximized')\n",
    "options.add_experimental_option(\"excludeSwitches\", [\"enable-automation\"])\n",
    "options.add_experimental_option('useAutomationExtension', False)\n",
    "#options.add_argument('--incognito')\n",
    "#options.add_argument('user-data-dir=selenium')"
   ]
  },
  {
   "cell_type": "code",
   "execution_count": 2,
   "id": "b1f30157-7d57-4ec3-9425-a0267217b71b",
   "metadata": {},
   "outputs": [],
   "source": [
    "PATH = ChromeDriverManager().install()"
   ]
  },
  {
   "cell_type": "code",
   "execution_count": 3,
   "id": "cbc1e886-46b2-4ffa-bc3f-e3b9f338769c",
   "metadata": {},
   "outputs": [],
   "source": [
    "driver = webdriver.Chrome(PATH, options=options)"
   ]
  },
  {
   "cell_type": "code",
   "execution_count": 4,
   "id": "e2f0aee2-7189-4fa9-83ef-2ebbdba920ea",
   "metadata": {},
   "outputs": [],
   "source": [
    "url = 'https://www.moto1pro.com/'"
   ]
  },
  {
   "cell_type": "code",
   "execution_count": 5,
   "id": "e555647b-b37e-4fdc-94aa-1aa8e3aa3d35",
   "metadata": {},
   "outputs": [],
   "source": [
    "driver.get(url)"
   ]
  },
  {
   "cell_type": "code",
   "execution_count": 6,
   "id": "a172d99a-2fe2-4908-a6ff-b4dee0c5d743",
   "metadata": {},
   "outputs": [],
   "source": [
    "# Acepto las cookies\n",
    "cookies = driver.find_element(By.XPATH, '/html/body/div[11]/div[2]/div[1]/div[2]/div[2]/button[1]/p')\n",
    "cookies.click()\n",
    "time.sleep(0.5)"
   ]
  },
  {
   "cell_type": "code",
   "execution_count": 7,
   "id": "2caa30b9-4c54-476e-94c0-9ba37adf435c",
   "metadata": {},
   "outputs": [],
   "source": [
    "#Accedo a las fichas tecnicas\n",
    "fichas = driver.find_elements(By.XPATH, '//*[@id=\"navWrapper\"]/li[6]/a')\n",
    "fichas[0].click()\n",
    "time.sleep(0.5)"
   ]
  },
  {
   "cell_type": "code",
   "execution_count": 8,
   "id": "6be2dbd3-cf1f-4e40-b44d-5ff503ea5b83",
   "metadata": {},
   "outputs": [],
   "source": [
    "elems = driver.find_elements(By.XPATH, \"//a[@href]\")"
   ]
  },
  {
   "cell_type": "code",
   "execution_count": 9,
   "id": "7dfb4e28-581c-412e-9750-a74b63c06455",
   "metadata": {},
   "outputs": [],
   "source": [
    "links = []\n",
    "for elem in elems:\n",
    "    links.append(elem.get_attribute(\"href\"))"
   ]
  },
  {
   "cell_type": "code",
   "execution_count": 10,
   "id": "76057f64-cd9e-4c80-9e06-7c0333fe19c4",
   "metadata": {},
   "outputs": [],
   "source": [
    "links = [elem.get_attribute(\"href\") for elem in elems]"
   ]
  },
  {
   "cell_type": "code",
   "execution_count": 11,
   "id": "ecd08a99-6adc-4839-9cd7-fe805e68357f",
   "metadata": {},
   "outputs": [],
   "source": [
    "links_marcas = []             \n",
    "for e in links:\n",
    "    if 'marca-de-motos/' in e:\n",
    "        links_marcas.append(e)\n",
    "#links_marcas"
   ]
  },
  {
   "cell_type": "code",
   "execution_count": 12,
   "id": "a34f9b73-064c-45c9-b101-e0099167e577",
   "metadata": {},
   "outputs": [],
   "source": [
    "url_base = \"https://www.moto1pro.com/marca-de-motos/\"                                    \n",
    "marcas = ['Aprilia', 'Bmw', 'Ducati', 'Honda', 'Yamaha', 'Kawasaki', 'Suzuki', 'KTM']\n",
    "\n",
    "full_links = []                                                           \n",
    "visited_links = set()\n",
    "\n",
    "for marca in marcas:\n",
    "    url = urljoin(url_base, marca)\n",
    "    response = requests.get(url)\n",
    "    tree = html.fromstring(response.content)\n",
    "    div_content = tree.xpath('//div[@class=\"contenido-izquierda\"]')[0]\n",
    "    links = div_content.xpath('.//a/@href')\n",
    "    for link in links:\n",
    "        full_link = urljoin(url, link)\n",
    "        if full_link not in visited_links:\n",
    "            full_links.append(full_link)\n",
    "            visited_links.add(full_link)\n",
    "#full_links"
   ]
  },
  {
   "cell_type": "code",
   "execution_count": 52,
   "id": "81cdb285-cc7c-4b60-b1f9-87b899b8d4ea",
   "metadata": {},
   "outputs": [
    {
     "data": {
      "text/html": [
       "<div>\n",
       "<style scoped>\n",
       "    .dataframe tbody tr th:only-of-type {\n",
       "        vertical-align: middle;\n",
       "    }\n",
       "\n",
       "    .dataframe tbody tr th {\n",
       "        vertical-align: top;\n",
       "    }\n",
       "\n",
       "    .dataframe thead th {\n",
       "        text-align: right;\n",
       "    }\n",
       "</style>\n",
       "<table border=\"1\" class=\"dataframe\">\n",
       "  <thead>\n",
       "    <tr style=\"text-align: right;\">\n",
       "      <th></th>\n",
       "      <th>logo_links</th>\n",
       "      <th>marcas</th>\n",
       "    </tr>\n",
       "  </thead>\n",
       "  <tbody>\n",
       "    <tr>\n",
       "      <th>0</th>\n",
       "      <td>https://motos-b60.kxcdn.com/sites/default/files/aprilia.png</td>\n",
       "      <td>Aprilia</td>\n",
       "    </tr>\n",
       "    <tr>\n",
       "      <th>1</th>\n",
       "      <td>https://motos-b60.kxcdn.com/sites/default/files/logo_bmw.png</td>\n",
       "      <td>Bmw</td>\n",
       "    </tr>\n",
       "    <tr>\n",
       "      <th>2</th>\n",
       "      <td>https://motos-b60.kxcdn.com/sites/default/files/ducati.png</td>\n",
       "      <td>Ducati</td>\n",
       "    </tr>\n",
       "    <tr>\n",
       "      <th>3</th>\n",
       "      <td>https://motos-b60.kxcdn.com/sites/default/files/honda.png</td>\n",
       "      <td>Honda</td>\n",
       "    </tr>\n",
       "    <tr>\n",
       "      <th>4</th>\n",
       "      <td>https://motos-b60.kxcdn.com/sites/default/files/logo-yamaha.jpg</td>\n",
       "      <td>Yamaha</td>\n",
       "    </tr>\n",
       "    <tr>\n",
       "      <th>5</th>\n",
       "      <td>https://motos-b60.kxcdn.com/sites/default/files/kawasaki-logo.jpg</td>\n",
       "      <td>Kawasaki</td>\n",
       "    </tr>\n",
       "    <tr>\n",
       "      <th>6</th>\n",
       "      <td>https://motos-b60.kxcdn.com/sites/default/files/suzuki.jpg</td>\n",
       "      <td>Suzuki</td>\n",
       "    </tr>\n",
       "    <tr>\n",
       "      <th>7</th>\n",
       "      <td>https://motos-b60.kxcdn.com/sites/default/files/ktm.png</td>\n",
       "      <td>KTM</td>\n",
       "    </tr>\n",
       "  </tbody>\n",
       "</table>\n",
       "</div>"
      ],
      "text/plain": [
       "                                                          logo_links    marcas\n",
       "0        https://motos-b60.kxcdn.com/sites/default/files/aprilia.png   Aprilia\n",
       "1       https://motos-b60.kxcdn.com/sites/default/files/logo_bmw.png       Bmw\n",
       "2         https://motos-b60.kxcdn.com/sites/default/files/ducati.png    Ducati\n",
       "3          https://motos-b60.kxcdn.com/sites/default/files/honda.png     Honda\n",
       "4    https://motos-b60.kxcdn.com/sites/default/files/logo-yamaha.jpg    Yamaha\n",
       "5  https://motos-b60.kxcdn.com/sites/default/files/kawasaki-logo.jpg  Kawasaki\n",
       "6         https://motos-b60.kxcdn.com/sites/default/files/suzuki.jpg    Suzuki\n",
       "7            https://motos-b60.kxcdn.com/sites/default/files/ktm.png       KTM"
      ]
     },
     "execution_count": 52,
     "metadata": {},
     "output_type": "execute_result"
    }
   ],
   "source": [
    "marcas = ['Aprilia', 'Bmw', 'Ducati', 'Honda', 'Yamaha', 'Kawasaki', 'Suzuki', 'KTM']\n",
    "\n",
    "diccionario_rangos = {'Aprilia': 1, 'Bmw': 5, 'Ducati': 11, 'Honda': 20, 'Yamaha': 67, 'Kawasaki': 25, 'Suzuki': 56, 'KTM': 28}\n",
    "\n",
    "logo_links = []\n",
    "\n",
    "for marca in marcas:\n",
    "    rango = diccionario_rangos[marca]\n",
    "    xpath = f'//*[@id=\"content\"]/div[4]/div[1]/div[{rango}]/a/img'\n",
    "    logo = driver.find_element(By.XPATH, xpath)\n",
    "    logo_links.append(logo.get_attribute(\"src\"))\n",
    "\n",
    "df = pd.DataFrame({'logo_links': logo_links, 'marcas': marcas})\n",
    "df"
   ]
  },
  {
   "cell_type": "code",
   "execution_count": 53,
   "id": "f9f3579c-741a-4a89-8c3e-33ad822e72d6",
   "metadata": {},
   "outputs": [],
   "source": [
    "df_logos = df"
   ]
  },
  {
   "cell_type": "code",
   "execution_count": 54,
   "id": "7ecda459-eb99-43b6-9796-afeb419c2cfd",
   "metadata": {},
   "outputs": [],
   "source": [
    "df_logos.to_csv('df_logos.csv')"
   ]
  }
 ],
 "metadata": {
  "kernelspec": {
   "display_name": "Python 3 (ipykernel)",
   "language": "python",
   "name": "python3"
  },
  "language_info": {
   "codemirror_mode": {
    "name": "ipython",
    "version": 3
   },
   "file_extension": ".py",
   "mimetype": "text/x-python",
   "name": "python",
   "nbconvert_exporter": "python",
   "pygments_lexer": "ipython3",
   "version": "3.9.13"
  }
 },
 "nbformat": 4,
 "nbformat_minor": 5
}
